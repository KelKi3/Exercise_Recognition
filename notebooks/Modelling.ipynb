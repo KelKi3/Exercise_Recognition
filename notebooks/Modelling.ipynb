{
 "cells": [
  {
   "cell_type": "code",
   "execution_count": 1,
   "id": "0943c66e-bae2-4bd6-85e1-3fe204a6575d",
   "metadata": {},
   "outputs": [],
   "source": [
    "#Libraries\n",
    "\n",
    "import pandas as pd\n",
    "import numpy as np\n",
    "\n",
    "import matplotlib.pyplot as plt\n",
    "import seaborn as sns\n",
    "from sklearn import metrics\n",
    "\n",
    "from sklearn.preprocessing import LabelEncoder\n",
    "from sklearn.preprocessing import StandardScaler\n",
    "\n",
    "from sklearn.model_selection import train_test_split, StratifiedShuffleSplit\n",
    "from sklearn.model_selection import GridSearchCV\n",
    "\n",
    "from sklearn.ensemble import RandomForestClassifier\n",
    "from sklearn.svm import SVC\n",
    "from xgboost.sklearn import XGBClassifier\n",
    "import xgboost as xgb\n",
    "\n",
    "from sklearn.metrics import accuracy_score\n",
    "from sklearn.metrics import roc_auc_score\n",
    "from sklearn.metrics import roc_curve\n",
    "from sklearn.metrics import confusion_matrix\n",
    "from sklearn.metrics import classification_report"
   ]
  },
  {
   "cell_type": "code",
   "execution_count": 2,
   "id": "05c838e5-15b6-4686-9639-6c6e54ab3829",
   "metadata": {
    "tags": []
   },
   "outputs": [],
   "source": [
    "# importing prepared dataset\n",
    "\n",
    "data = pd.read_csv('../data/exercise_df_pre_modelling.csv')"
   ]
  },
  {
   "cell_type": "markdown",
   "id": "516dd118-1bc7-470b-8615-0850bafd64d5",
   "metadata": {},
   "source": [
    "## Encoding "
   ]
  },
  {
   "cell_type": "markdown",
   "id": "5eec5b08-0e8f-4085-a662-0ba3aa786ff8",
   "metadata": {},
   "source": [
    "Before I can start plugging my data into some models there are a few more things I need to take care of. First we are going to encode the categorical columns."
   ]
  },
  {
   "cell_type": "code",
   "execution_count": 3,
   "id": "1897163c-eb02-4c77-b4ce-59327e3eb470",
   "metadata": {
    "tags": []
   },
   "outputs": [
    {
     "name": "stdout",
     "output_type": "stream",
     "text": [
      "Column: exercise\n",
      "  ARM_RAISE-DUMBBELL -> 0\n",
      "  BICEP_CURL-DUMBBELL -> 1\n",
      "  BIRD_DOG -> 2\n",
      "  BURPEE -> 3\n",
      "  CRUNCHES -> 4\n",
      "  HAMMER_CURL-DUMBBELL -> 5\n",
      "  OVERHEAD_PRESS-DUMBBELL -> 6\n",
      "  TRICEP_KICKBACK-BENT_OVER+SINGLE_ARM-DUMBBELL-LEFT -> 7\n",
      "  TRICEP_KICKBACK-BENT_OVER+SINGLE_ARM-DUMBBELL-RIGHT -> 8\n",
      "  V_UP -> 9\n",
      "\n",
      "Column: watch_location\n",
      "  LEFT -> 0\n",
      "  RIGHT -> 1\n",
      "\n",
      "Column: crown_orientation\n",
      "  LEFT -> 0\n",
      "  RIGHT -> 1\n",
      "\n"
     ]
    }
   ],
   "source": [
    "# encoding categorical columns and saving mapping model \n",
    "\n",
    "columns_to_encode = ['exercise', 'watch_location', 'crown_orientation']\n",
    "\n",
    "label_mappings = {}\n",
    "enc = LabelEncoder()\n",
    "\n",
    "for column in columns_to_encode:\n",
    "    enc.fit_transform(data[column])\n",
    "    \n",
    "    data[f'{column}'] = enc.transform(data[column])\n",
    "    label_mappings[column] = dict(zip(enc.classes_, enc.transform(enc.classes_)))\n",
    "\n",
    "# Display the label mappings\n",
    "for column, mapping in label_mappings.items():\n",
    "    print(f\"Column: {column}\")\n",
    "    for label, encoded_value in mapping.items():\n",
    "        print(f\"  {label} -> {encoded_value}\")\n",
    "    print()"
   ]
  },
  {
   "cell_type": "code",
   "execution_count": 4,
   "id": "01a739fd-b7e5-4f7a-8173-9ea13c83f389",
   "metadata": {
    "tags": []
   },
   "outputs": [
    {
     "data": {
      "text/html": [
       "<div>\n",
       "<style scoped>\n",
       "    .dataframe tbody tr th:only-of-type {\n",
       "        vertical-align: middle;\n",
       "    }\n",
       "\n",
       "    .dataframe tbody tr th {\n",
       "        vertical-align: top;\n",
       "    }\n",
       "\n",
       "    .dataframe thead th {\n",
       "        text-align: right;\n",
       "    }\n",
       "</style>\n",
       "<table border=\"1\" class=\"dataframe\">\n",
       "  <thead>\n",
       "    <tr style=\"text-align: right;\">\n",
       "      <th></th>\n",
       "      <th>exercise</th>\n",
       "      <th>watch_location</th>\n",
       "      <th>crown_orientation</th>\n",
       "      <th>ref_xy_rotation</th>\n",
       "      <th>rel_baseline_speed</th>\n",
       "      <th>max_rel_speed_change</th>\n",
       "      <th>wrist_offset_deg</th>\n",
       "      <th>avg_rep_time</th>\n",
       "      <th>euler_x_1</th>\n",
       "      <th>euler_y_1</th>\n",
       "      <th>...</th>\n",
       "      <th>euler_z_117</th>\n",
       "      <th>euler_x_118</th>\n",
       "      <th>euler_y_118</th>\n",
       "      <th>euler_z_118</th>\n",
       "      <th>euler_x_119</th>\n",
       "      <th>euler_y_119</th>\n",
       "      <th>euler_z_119</th>\n",
       "      <th>euler_x_120</th>\n",
       "      <th>euler_y_120</th>\n",
       "      <th>euler_z_120</th>\n",
       "    </tr>\n",
       "  </thead>\n",
       "  <tbody>\n",
       "    <tr>\n",
       "      <th>0</th>\n",
       "      <td>0</td>\n",
       "      <td>1</td>\n",
       "      <td>0</td>\n",
       "      <td>4.818261</td>\n",
       "      <td>0.851037</td>\n",
       "      <td>0.024017</td>\n",
       "      <td>9.201472</td>\n",
       "      <td>2.970833</td>\n",
       "      <td>-0.085816</td>\n",
       "      <td>-1.236302</td>\n",
       "      <td>...</td>\n",
       "      <td>0.068083</td>\n",
       "      <td>0.316288</td>\n",
       "      <td>-0.37655</td>\n",
       "      <td>0.04075</td>\n",
       "      <td>0.278083</td>\n",
       "      <td>-0.85458</td>\n",
       "      <td>0.019844</td>\n",
       "      <td>0.186179</td>\n",
       "      <td>-1.131981</td>\n",
       "      <td>0.086393</td>\n",
       "    </tr>\n",
       "  </tbody>\n",
       "</table>\n",
       "<p>1 rows × 368 columns</p>\n",
       "</div>"
      ],
      "text/plain": [
       "   exercise  watch_location  crown_orientation  ref_xy_rotation  \\\n",
       "0         0               1                  0         4.818261   \n",
       "\n",
       "   rel_baseline_speed  max_rel_speed_change  wrist_offset_deg  avg_rep_time  \\\n",
       "0            0.851037              0.024017          9.201472      2.970833   \n",
       "\n",
       "   euler_x_1  euler_y_1  ...  euler_z_117  euler_x_118  euler_y_118  \\\n",
       "0  -0.085816  -1.236302  ...     0.068083     0.316288     -0.37655   \n",
       "\n",
       "   euler_z_118  euler_x_119  euler_y_119  euler_z_119  euler_x_120  \\\n",
       "0      0.04075     0.278083     -0.85458     0.019844     0.186179   \n",
       "\n",
       "   euler_y_120  euler_z_120  \n",
       "0    -1.131981     0.086393  \n",
       "\n",
       "[1 rows x 368 columns]"
      ]
     },
     "execution_count": 4,
     "metadata": {},
     "output_type": "execute_result"
    }
   ],
   "source": [
    "data.head(1)"
   ]
  },
  {
   "cell_type": "code",
   "execution_count": 5,
   "id": "13a7c0b0-6403-4b41-ade4-b2f610767157",
   "metadata": {
    "tags": []
   },
   "outputs": [
    {
     "name": "stdout",
     "output_type": "stream",
     "text": [
      "<class 'pandas.core.frame.DataFrame'>\n",
      "RangeIndex: 1768 entries, 0 to 1767\n",
      "Columns: 368 entries, exercise to euler_z_120\n",
      "dtypes: float64(365), int32(3)\n",
      "memory usage: 4.9 MB\n"
     ]
    }
   ],
   "source": [
    "data.info()"
   ]
  },
  {
   "cell_type": "markdown",
   "id": "09deecd8-e782-4989-87c8-156903cdb458",
   "metadata": {},
   "source": [
    "We can see now that all of our data are int or float."
   ]
  },
  {
   "cell_type": "code",
   "execution_count": 6,
   "id": "91d09bd8-2509-493e-ae59-d20ab2ee8338",
   "metadata": {
    "tags": []
   },
   "outputs": [
    {
     "data": {
      "text/html": [
       "<div>\n",
       "<style scoped>\n",
       "    .dataframe tbody tr th:only-of-type {\n",
       "        vertical-align: middle;\n",
       "    }\n",
       "\n",
       "    .dataframe tbody tr th {\n",
       "        vertical-align: top;\n",
       "    }\n",
       "\n",
       "    .dataframe thead th {\n",
       "        text-align: right;\n",
       "    }\n",
       "</style>\n",
       "<table border=\"1\" class=\"dataframe\">\n",
       "  <thead>\n",
       "    <tr style=\"text-align: right;\">\n",
       "      <th></th>\n",
       "      <th>exercise</th>\n",
       "      <th>watch_location</th>\n",
       "      <th>crown_orientation</th>\n",
       "      <th>ref_xy_rotation</th>\n",
       "      <th>rel_baseline_speed</th>\n",
       "      <th>max_rel_speed_change</th>\n",
       "      <th>wrist_offset_deg</th>\n",
       "      <th>avg_rep_time</th>\n",
       "      <th>euler_x_1</th>\n",
       "      <th>euler_y_1</th>\n",
       "      <th>euler_z_1</th>\n",
       "      <th>euler_x_2</th>\n",
       "      <th>euler_y_2</th>\n",
       "      <th>euler_z_2</th>\n",
       "      <th>euler_x_3</th>\n",
       "      <th>euler_y_3</th>\n",
       "      <th>euler_z_3</th>\n",
       "      <th>euler_x_4</th>\n",
       "      <th>euler_y_4</th>\n",
       "      <th>euler_z_4</th>\n",
       "    </tr>\n",
       "  </thead>\n",
       "  <tbody>\n",
       "    <tr>\n",
       "      <th>count</th>\n",
       "      <td>1768.000000</td>\n",
       "      <td>1768.000000</td>\n",
       "      <td>1768.000000</td>\n",
       "      <td>1768.000000</td>\n",
       "      <td>1768.000000</td>\n",
       "      <td>1768.000000</td>\n",
       "      <td>1768.000000</td>\n",
       "      <td>1768.000000</td>\n",
       "      <td>1768.000000</td>\n",
       "      <td>1768.000000</td>\n",
       "      <td>1768.000000</td>\n",
       "      <td>1768.000000</td>\n",
       "      <td>1768.000000</td>\n",
       "      <td>1768.000000</td>\n",
       "      <td>1768.000000</td>\n",
       "      <td>1768.000000</td>\n",
       "      <td>1768.000000</td>\n",
       "      <td>1768.000000</td>\n",
       "      <td>1768.000000</td>\n",
       "      <td>1768.000000</td>\n",
       "    </tr>\n",
       "    <tr>\n",
       "      <th>mean</th>\n",
       "      <td>4.161765</td>\n",
       "      <td>0.498869</td>\n",
       "      <td>0.500566</td>\n",
       "      <td>3.075143</td>\n",
       "      <td>1.140106</td>\n",
       "      <td>0.159040</td>\n",
       "      <td>-0.552157</td>\n",
       "      <td>2.844651</td>\n",
       "      <td>0.005314</td>\n",
       "      <td>-0.004561</td>\n",
       "      <td>-0.013287</td>\n",
       "      <td>0.005116</td>\n",
       "      <td>-0.005539</td>\n",
       "      <td>-0.003244</td>\n",
       "      <td>0.021730</td>\n",
       "      <td>-0.010772</td>\n",
       "      <td>0.020410</td>\n",
       "      <td>0.023884</td>\n",
       "      <td>-0.010729</td>\n",
       "      <td>0.032418</td>\n",
       "    </tr>\n",
       "    <tr>\n",
       "      <th>std</th>\n",
       "      <td>2.856672</td>\n",
       "      <td>0.500140</td>\n",
       "      <td>0.500141</td>\n",
       "      <td>1.810480</td>\n",
       "      <td>0.388024</td>\n",
       "      <td>0.120412</td>\n",
       "      <td>18.833785</td>\n",
       "      <td>2.364977</td>\n",
       "      <td>1.824003</td>\n",
       "      <td>0.772781</td>\n",
       "      <td>1.678963</td>\n",
       "      <td>1.787894</td>\n",
       "      <td>0.734351</td>\n",
       "      <td>1.700784</td>\n",
       "      <td>1.710783</td>\n",
       "      <td>0.670936</td>\n",
       "      <td>1.731052</td>\n",
       "      <td>1.598623</td>\n",
       "      <td>0.691482</td>\n",
       "      <td>1.736577</td>\n",
       "    </tr>\n",
       "    <tr>\n",
       "      <th>min</th>\n",
       "      <td>0.000000</td>\n",
       "      <td>0.000000</td>\n",
       "      <td>0.000000</td>\n",
       "      <td>0.000068</td>\n",
       "      <td>0.500301</td>\n",
       "      <td>0.000028</td>\n",
       "      <td>-44.753317</td>\n",
       "      <td>0.773077</td>\n",
       "      <td>-3.134623</td>\n",
       "      <td>-1.529143</td>\n",
       "      <td>-3.138694</td>\n",
       "      <td>-3.141491</td>\n",
       "      <td>-1.506369</td>\n",
       "      <td>-3.119051</td>\n",
       "      <td>-3.141076</td>\n",
       "      <td>-1.542554</td>\n",
       "      <td>-3.125885</td>\n",
       "      <td>-3.139041</td>\n",
       "      <td>-1.541828</td>\n",
       "      <td>-3.140974</td>\n",
       "    </tr>\n",
       "    <tr>\n",
       "      <th>25%</th>\n",
       "      <td>2.000000</td>\n",
       "      <td>0.000000</td>\n",
       "      <td>0.000000</td>\n",
       "      <td>1.516402</td>\n",
       "      <td>0.846894</td>\n",
       "      <td>0.060804</td>\n",
       "      <td>-14.723011</td>\n",
       "      <td>1.522045</td>\n",
       "      <td>-1.437962</td>\n",
       "      <td>-0.609998</td>\n",
       "      <td>-1.597836</td>\n",
       "      <td>-1.341938</td>\n",
       "      <td>-0.578529</td>\n",
       "      <td>-1.623846</td>\n",
       "      <td>-1.320015</td>\n",
       "      <td>-0.515320</td>\n",
       "      <td>-1.566908</td>\n",
       "      <td>-1.250440</td>\n",
       "      <td>-0.520233</td>\n",
       "      <td>-1.593738</td>\n",
       "    </tr>\n",
       "    <tr>\n",
       "      <th>50%</th>\n",
       "      <td>4.000000</td>\n",
       "      <td>0.000000</td>\n",
       "      <td>1.000000</td>\n",
       "      <td>3.051973</td>\n",
       "      <td>1.103707</td>\n",
       "      <td>0.134453</td>\n",
       "      <td>-0.955696</td>\n",
       "      <td>2.094097</td>\n",
       "      <td>0.037029</td>\n",
       "      <td>-0.033025</td>\n",
       "      <td>0.023405</td>\n",
       "      <td>-0.010286</td>\n",
       "      <td>-0.029389</td>\n",
       "      <td>0.051814</td>\n",
       "      <td>0.042219</td>\n",
       "      <td>-0.020756</td>\n",
       "      <td>0.039621</td>\n",
       "      <td>0.014764</td>\n",
       "      <td>-0.016577</td>\n",
       "      <td>0.036437</td>\n",
       "    </tr>\n",
       "    <tr>\n",
       "      <th>75%</th>\n",
       "      <td>6.000000</td>\n",
       "      <td>1.000000</td>\n",
       "      <td>1.000000</td>\n",
       "      <td>4.603642</td>\n",
       "      <td>1.391872</td>\n",
       "      <td>0.226439</td>\n",
       "      <td>13.541870</td>\n",
       "      <td>3.087500</td>\n",
       "      <td>1.412526</td>\n",
       "      <td>0.627743</td>\n",
       "      <td>1.540600</td>\n",
       "      <td>1.332046</td>\n",
       "      <td>0.592276</td>\n",
       "      <td>1.510852</td>\n",
       "      <td>1.321814</td>\n",
       "      <td>0.495848</td>\n",
       "      <td>1.525983</td>\n",
       "      <td>1.254650</td>\n",
       "      <td>0.503572</td>\n",
       "      <td>1.598302</td>\n",
       "    </tr>\n",
       "    <tr>\n",
       "      <th>max</th>\n",
       "      <td>9.000000</td>\n",
       "      <td>1.000000</td>\n",
       "      <td>1.000000</td>\n",
       "      <td>6.278917</td>\n",
       "      <td>2.861832</td>\n",
       "      <td>0.777604</td>\n",
       "      <td>44.344465</td>\n",
       "      <td>16.791667</td>\n",
       "      <td>3.139900</td>\n",
       "      <td>1.521754</td>\n",
       "      <td>3.140739</td>\n",
       "      <td>3.140135</td>\n",
       "      <td>1.536095</td>\n",
       "      <td>3.137109</td>\n",
       "      <td>3.139074</td>\n",
       "      <td>1.497512</td>\n",
       "      <td>3.139442</td>\n",
       "      <td>3.138381</td>\n",
       "      <td>1.533896</td>\n",
       "      <td>3.141549</td>\n",
       "    </tr>\n",
       "  </tbody>\n",
       "</table>\n",
       "</div>"
      ],
      "text/plain": [
       "          exercise  watch_location  crown_orientation  ref_xy_rotation  \\\n",
       "count  1768.000000     1768.000000        1768.000000      1768.000000   \n",
       "mean      4.161765        0.498869           0.500566         3.075143   \n",
       "std       2.856672        0.500140           0.500141         1.810480   \n",
       "min       0.000000        0.000000           0.000000         0.000068   \n",
       "25%       2.000000        0.000000           0.000000         1.516402   \n",
       "50%       4.000000        0.000000           1.000000         3.051973   \n",
       "75%       6.000000        1.000000           1.000000         4.603642   \n",
       "max       9.000000        1.000000           1.000000         6.278917   \n",
       "\n",
       "       rel_baseline_speed  max_rel_speed_change  wrist_offset_deg  \\\n",
       "count         1768.000000           1768.000000       1768.000000   \n",
       "mean             1.140106              0.159040         -0.552157   \n",
       "std              0.388024              0.120412         18.833785   \n",
       "min              0.500301              0.000028        -44.753317   \n",
       "25%              0.846894              0.060804        -14.723011   \n",
       "50%              1.103707              0.134453         -0.955696   \n",
       "75%              1.391872              0.226439         13.541870   \n",
       "max              2.861832              0.777604         44.344465   \n",
       "\n",
       "       avg_rep_time    euler_x_1    euler_y_1    euler_z_1    euler_x_2  \\\n",
       "count   1768.000000  1768.000000  1768.000000  1768.000000  1768.000000   \n",
       "mean       2.844651     0.005314    -0.004561    -0.013287     0.005116   \n",
       "std        2.364977     1.824003     0.772781     1.678963     1.787894   \n",
       "min        0.773077    -3.134623    -1.529143    -3.138694    -3.141491   \n",
       "25%        1.522045    -1.437962    -0.609998    -1.597836    -1.341938   \n",
       "50%        2.094097     0.037029    -0.033025     0.023405    -0.010286   \n",
       "75%        3.087500     1.412526     0.627743     1.540600     1.332046   \n",
       "max       16.791667     3.139900     1.521754     3.140739     3.140135   \n",
       "\n",
       "         euler_y_2    euler_z_2    euler_x_3    euler_y_3    euler_z_3  \\\n",
       "count  1768.000000  1768.000000  1768.000000  1768.000000  1768.000000   \n",
       "mean     -0.005539    -0.003244     0.021730    -0.010772     0.020410   \n",
       "std       0.734351     1.700784     1.710783     0.670936     1.731052   \n",
       "min      -1.506369    -3.119051    -3.141076    -1.542554    -3.125885   \n",
       "25%      -0.578529    -1.623846    -1.320015    -0.515320    -1.566908   \n",
       "50%      -0.029389     0.051814     0.042219    -0.020756     0.039621   \n",
       "75%       0.592276     1.510852     1.321814     0.495848     1.525983   \n",
       "max       1.536095     3.137109     3.139074     1.497512     3.139442   \n",
       "\n",
       "         euler_x_4    euler_y_4    euler_z_4  \n",
       "count  1768.000000  1768.000000  1768.000000  \n",
       "mean      0.023884    -0.010729     0.032418  \n",
       "std       1.598623     0.691482     1.736577  \n",
       "min      -3.139041    -1.541828    -3.140974  \n",
       "25%      -1.250440    -0.520233    -1.593738  \n",
       "50%       0.014764    -0.016577     0.036437  \n",
       "75%       1.254650     0.503572     1.598302  \n",
       "max       3.138381     1.533896     3.141549  "
      ]
     },
     "execution_count": 6,
     "metadata": {},
     "output_type": "execute_result"
    }
   ],
   "source": [
    "data.iloc[:,:20].describe()"
   ]
  },
  {
   "cell_type": "markdown",
   "id": "dfc82585-1fbe-45b4-9e95-98ece9767fc2",
   "metadata": {},
   "source": [
    "While scaling is necessary for many models, it is not necessary for all. I will be trying a RandomForest model first which does not require scaling, however it is recommended for some of the other models I'm considering so I will scale it."
   ]
  },
  {
   "cell_type": "markdown",
   "id": "d2718ccb-3aec-48fd-b648-9fe26733c4f0",
   "metadata": {},
   "source": [
    "## Scaling"
   ]
  },
  {
   "cell_type": "code",
   "execution_count": 13,
   "id": "6c4199d4-9918-4db8-a5d9-9c1406b03417",
   "metadata": {
    "tags": []
   },
   "outputs": [],
   "source": [
    "# Scaling data\n",
    "\n",
    "columns_to_scale = data.columns[3:]\n",
    "scaler = StandardScaler()\n",
    "\n",
    "scaled_data = scaler.fit_transform(data[columns_to_scale])\n",
    "scaled_df = pd.concat([data.iloc[:, :3], pd.DataFrame(scaled_data, columns=columns_to_scale)], axis=1)"
   ]
  },
  {
   "cell_type": "code",
   "execution_count": 14,
   "id": "d86c99cd-a909-4882-8bf8-8efa22347e54",
   "metadata": {
    "tags": []
   },
   "outputs": [],
   "source": [
    "# setting to format how the floats display\n",
    "\n",
    "pd.set_option('display.float_format', '{:.6f}'.format)"
   ]
  },
  {
   "cell_type": "code",
   "execution_count": 15,
   "id": "c3d17a33-c1f6-4534-abf3-37d5e97bf6d6",
   "metadata": {
    "tags": []
   },
   "outputs": [
    {
     "data": {
      "text/html": [
       "<div>\n",
       "<style scoped>\n",
       "    .dataframe tbody tr th:only-of-type {\n",
       "        vertical-align: middle;\n",
       "    }\n",
       "\n",
       "    .dataframe tbody tr th {\n",
       "        vertical-align: top;\n",
       "    }\n",
       "\n",
       "    .dataframe thead th {\n",
       "        text-align: right;\n",
       "    }\n",
       "</style>\n",
       "<table border=\"1\" class=\"dataframe\">\n",
       "  <thead>\n",
       "    <tr style=\"text-align: right;\">\n",
       "      <th></th>\n",
       "      <th>exercise</th>\n",
       "      <th>watch_location</th>\n",
       "      <th>crown_orientation</th>\n",
       "      <th>ref_xy_rotation</th>\n",
       "      <th>rel_baseline_speed</th>\n",
       "      <th>max_rel_speed_change</th>\n",
       "      <th>wrist_offset_deg</th>\n",
       "      <th>avg_rep_time</th>\n",
       "      <th>euler_x_1</th>\n",
       "      <th>euler_y_1</th>\n",
       "    </tr>\n",
       "  </thead>\n",
       "  <tbody>\n",
       "    <tr>\n",
       "      <th>count</th>\n",
       "      <td>1768.000000</td>\n",
       "      <td>1768.000000</td>\n",
       "      <td>1768.000000</td>\n",
       "      <td>1768.000000</td>\n",
       "      <td>1768.000000</td>\n",
       "      <td>1768.000000</td>\n",
       "      <td>1768.000000</td>\n",
       "      <td>1768.000000</td>\n",
       "      <td>1768.000000</td>\n",
       "      <td>1768.000000</td>\n",
       "    </tr>\n",
       "    <tr>\n",
       "      <th>mean</th>\n",
       "      <td>4.161765</td>\n",
       "      <td>0.498869</td>\n",
       "      <td>0.500566</td>\n",
       "      <td>0.000000</td>\n",
       "      <td>-0.000000</td>\n",
       "      <td>-0.000000</td>\n",
       "      <td>0.000000</td>\n",
       "      <td>0.000000</td>\n",
       "      <td>-0.000000</td>\n",
       "      <td>-0.000000</td>\n",
       "    </tr>\n",
       "    <tr>\n",
       "      <th>std</th>\n",
       "      <td>2.856672</td>\n",
       "      <td>0.500140</td>\n",
       "      <td>0.500141</td>\n",
       "      <td>1.000283</td>\n",
       "      <td>1.000283</td>\n",
       "      <td>1.000283</td>\n",
       "      <td>1.000283</td>\n",
       "      <td>1.000283</td>\n",
       "      <td>1.000283</td>\n",
       "      <td>1.000283</td>\n",
       "    </tr>\n",
       "    <tr>\n",
       "      <th>min</th>\n",
       "      <td>0.000000</td>\n",
       "      <td>0.000000</td>\n",
       "      <td>0.000000</td>\n",
       "      <td>-1.698967</td>\n",
       "      <td>-1.649346</td>\n",
       "      <td>-1.320944</td>\n",
       "      <td>-2.347572</td>\n",
       "      <td>-0.876186</td>\n",
       "      <td>-1.721940</td>\n",
       "      <td>-1.973409</td>\n",
       "    </tr>\n",
       "    <tr>\n",
       "      <th>25%</th>\n",
       "      <td>2.000000</td>\n",
       "      <td>0.000000</td>\n",
       "      <td>0.000000</td>\n",
       "      <td>-0.861198</td>\n",
       "      <td>-0.755867</td>\n",
       "      <td>-0.816069</td>\n",
       "      <td>-0.752630</td>\n",
       "      <td>-0.559405</td>\n",
       "      <td>-0.791492</td>\n",
       "      <td>-0.783673</td>\n",
       "    </tr>\n",
       "    <tr>\n",
       "      <th>50%</th>\n",
       "      <td>4.000000</td>\n",
       "      <td>0.000000</td>\n",
       "      <td>1.000000</td>\n",
       "      <td>-0.012801</td>\n",
       "      <td>-0.093831</td>\n",
       "      <td>-0.204252</td>\n",
       "      <td>-0.021432</td>\n",
       "      <td>-0.317452</td>\n",
       "      <td>0.017393</td>\n",
       "      <td>-0.036843</td>\n",
       "    </tr>\n",
       "    <tr>\n",
       "      <th>75%</th>\n",
       "      <td>6.000000</td>\n",
       "      <td>1.000000</td>\n",
       "      <td>1.000000</td>\n",
       "      <td>0.844489</td>\n",
       "      <td>0.649026</td>\n",
       "      <td>0.559893</td>\n",
       "      <td>0.748549</td>\n",
       "      <td>0.102715</td>\n",
       "      <td>0.771715</td>\n",
       "      <td>0.818450</td>\n",
       "    </tr>\n",
       "    <tr>\n",
       "      <th>max</th>\n",
       "      <td>9.000000</td>\n",
       "      <td>1.000000</td>\n",
       "      <td>1.000000</td>\n",
       "      <td>1.770072</td>\n",
       "      <td>4.438419</td>\n",
       "      <td>5.138530</td>\n",
       "      <td>2.384509</td>\n",
       "      <td>5.898985</td>\n",
       "      <td>1.719006</td>\n",
       "      <td>1.975652</td>\n",
       "    </tr>\n",
       "  </tbody>\n",
       "</table>\n",
       "</div>"
      ],
      "text/plain": [
       "         exercise  watch_location  crown_orientation  ref_xy_rotation  \\\n",
       "count 1768.000000     1768.000000        1768.000000      1768.000000   \n",
       "mean     4.161765        0.498869           0.500566         0.000000   \n",
       "std      2.856672        0.500140           0.500141         1.000283   \n",
       "min      0.000000        0.000000           0.000000        -1.698967   \n",
       "25%      2.000000        0.000000           0.000000        -0.861198   \n",
       "50%      4.000000        0.000000           1.000000        -0.012801   \n",
       "75%      6.000000        1.000000           1.000000         0.844489   \n",
       "max      9.000000        1.000000           1.000000         1.770072   \n",
       "\n",
       "       rel_baseline_speed  max_rel_speed_change  wrist_offset_deg  \\\n",
       "count         1768.000000           1768.000000       1768.000000   \n",
       "mean            -0.000000             -0.000000          0.000000   \n",
       "std              1.000283              1.000283          1.000283   \n",
       "min             -1.649346             -1.320944         -2.347572   \n",
       "25%             -0.755867             -0.816069         -0.752630   \n",
       "50%             -0.093831             -0.204252         -0.021432   \n",
       "75%              0.649026              0.559893          0.748549   \n",
       "max              4.438419              5.138530          2.384509   \n",
       "\n",
       "       avg_rep_time   euler_x_1   euler_y_1  \n",
       "count   1768.000000 1768.000000 1768.000000  \n",
       "mean       0.000000   -0.000000   -0.000000  \n",
       "std        1.000283    1.000283    1.000283  \n",
       "min       -0.876186   -1.721940   -1.973409  \n",
       "25%       -0.559405   -0.791492   -0.783673  \n",
       "50%       -0.317452    0.017393   -0.036843  \n",
       "75%        0.102715    0.771715    0.818450  \n",
       "max        5.898985    1.719006    1.975652  "
      ]
     },
     "execution_count": 15,
     "metadata": {},
     "output_type": "execute_result"
    }
   ],
   "source": [
    "scaled_df.iloc[:,:10].describe()"
   ]
  },
  {
   "cell_type": "markdown",
   "id": "67527108-58a4-42ed-9e4e-3c83dd366250",
   "metadata": {
    "tags": []
   },
   "source": [
    "## Splitting"
   ]
  },
  {
   "cell_type": "markdown",
   "id": "51e41712-845a-4377-9bef-b0d57b4f371f",
   "metadata": {},
   "source": [
    "On my first run through of my work I had initially split my data using a stratified method to ensure I got an even distribution of the exercises. However, my curiosity getting the better of me requires that I also try a set just split by percentage."
   ]
  },
  {
   "cell_type": "code",
   "execution_count": 16,
   "id": "7351379a-f0bf-416e-84e8-c7fc64e242cb",
   "metadata": {
    "tags": []
   },
   "outputs": [],
   "source": [
    "# splitting\n",
    "X_scale=scaled_df.drop(['exercise'], axis=1)\n",
    "y_scale=scaled_df['exercise']"
   ]
  },
  {
   "cell_type": "code",
   "execution_count": 17,
   "id": "dbc65a19-4d18-4a0b-a5f6-9e73ebd8cdc6",
   "metadata": {
    "tags": []
   },
   "outputs": [
    {
     "name": "stdout",
     "output_type": "stream",
     "text": [
      "(1768, 367) (1768,)\n"
     ]
    }
   ],
   "source": [
    "print(X_scale.shape, y_scale.shape)"
   ]
  },
  {
   "cell_type": "markdown",
   "id": "1ff6dc6a-723e-46c2-963f-dc901c0e9d1b",
   "metadata": {},
   "source": [
    "#### Unscaled"
   ]
  },
  {
   "cell_type": "markdown",
   "id": "3598724a-ab90-418b-8607-c51ca769aaa2",
   "metadata": {},
   "source": [
    "Again to satisfy my curiosity I ran some of the models on unscaled data too, just so I could see the difference. Not surprisingly it did not do as well."
   ]
  },
  {
   "cell_type": "code",
   "execution_count": 20,
   "id": "81465ff5-0433-48bb-97c5-3f7d7851e151",
   "metadata": {
    "tags": []
   },
   "outputs": [],
   "source": [
    "X_norm=data.drop(['exercise'], axis=1)\n",
    "y_norm=data['exercise']"
   ]
  },
  {
   "cell_type": "code",
   "execution_count": 21,
   "id": "ac96e70d-6f98-4349-9260-fdfd23e61563",
   "metadata": {
    "tags": []
   },
   "outputs": [
    {
     "name": "stdout",
     "output_type": "stream",
     "text": [
      "(1768, 367) (1768,)\n"
     ]
    }
   ],
   "source": [
    "print(X_norm.shape, y_norm.shape)"
   ]
  },
  {
   "cell_type": "markdown",
   "id": "d8b86de8-5ed4-429c-a90a-86b46c92f7cd",
   "metadata": {},
   "source": [
    "#### Stratified on data"
   ]
  },
  {
   "cell_type": "markdown",
   "id": "1b953d99-33bc-4a25-aa5c-23a193b2d5df",
   "metadata": {},
   "source": [
    "Using a stratified splitter to make sure each exercise is represented as evenly as possible."
   ]
  },
  {
   "cell_type": "code",
   "execution_count": 22,
   "id": "df8967d0-96cc-4382-8feb-7297e71f2f46",
   "metadata": {
    "tags": []
   },
   "outputs": [],
   "source": [
    "#Stratified on Scaled\n",
    "\n",
    "# Create a StratifiedShuffleSplit object\n",
    "stratified_splitter = StratifiedShuffleSplit(n_splits=1, test_size=0.2, random_state=42)\n",
    "\n",
    "# Use the splitter to get indices for the train and test sets\n",
    "for train_index, test_index in stratified_splitter.split(X_scale, y_scale):\n",
    "    X_train_strat_s, X_test_strat_s = X_scale.iloc[train_index], X_scale.iloc[test_index]\n",
    "    y_train_strat_s, y_test_strat_s = y_scale.iloc[train_index], y_scale.iloc[test_index]"
   ]
  },
  {
   "cell_type": "code",
   "execution_count": 23,
   "id": "f89e1bc5-8f7f-416a-a949-1bb4e9f8a785",
   "metadata": {
    "tags": []
   },
   "outputs": [
    {
     "name": "stdout",
     "output_type": "stream",
     "text": [
      "exercise\n",
      "3    160\n",
      "1    160\n",
      "2    160\n",
      "0    160\n",
      "5    160\n",
      "9    160\n",
      "6    157\n",
      "4    139\n",
      "8     80\n",
      "7     78\n",
      "Name: count, dtype: int64\n",
      "exercise\n",
      "0    40\n",
      "2    40\n",
      "1    40\n",
      "5    40\n",
      "9    40\n",
      "3    40\n",
      "6    39\n",
      "4    35\n",
      "7    20\n",
      "8    20\n",
      "Name: count, dtype: int64\n",
      "1414\n",
      "354\n"
     ]
    }
   ],
   "source": [
    "print(y_train_strat_s.value_counts())\n",
    "print(y_test_strat_s.value_counts())\n",
    "\n",
    "print(y_train_strat_s.value_counts().sum())\n",
    "print(y_test_strat_s.value_counts().sum())"
   ]
  },
  {
   "cell_type": "code",
   "execution_count": 24,
   "id": "bfe017da-bccc-4792-a0e3-a27b08eb2003",
   "metadata": {
    "tags": []
   },
   "outputs": [],
   "source": [
    "#Stratified on Unscaled\n",
    "\n",
    "stratified_splitter = StratifiedShuffleSplit(n_splits=1, test_size=0.2, random_state=42)\n",
    "\n",
    "# Use the splitter to get indices for the train and test sets\n",
    "for train_index, test_index in stratified_splitter.split(X_norm, y_norm):\n",
    "    X_train_strat_n, X_test_strat_n = X_norm.iloc[train_index], X_norm.iloc[test_index]\n",
    "    y_train_strat_n, y_test_strat_n = y_norm.iloc[train_index], y_norm.iloc[test_index]"
   ]
  },
  {
   "cell_type": "markdown",
   "id": "c72ad81f-d9b5-45fb-9a0e-a3b1390fbda4",
   "metadata": {},
   "source": [
    "#### Unstratified on data"
   ]
  },
  {
   "cell_type": "code",
   "execution_count": 25,
   "id": "4e938d76-3ee7-4860-905d-c812ce34d584",
   "metadata": {
    "tags": []
   },
   "outputs": [],
   "source": [
    "# Unstratified split using train_test_split on scaled\n",
    "\n",
    "X_train_un_s, X_test_un_s, y_train_un_s, y_test_un_s = train_test_split(X_scale, y_scale, test_size = 0.3, random_state = 3)"
   ]
  },
  {
   "cell_type": "code",
   "execution_count": 26,
   "id": "95b027e7-2211-415f-bc66-979a99d5dd75",
   "metadata": {
    "tags": []
   },
   "outputs": [
    {
     "name": "stdout",
     "output_type": "stream",
     "text": [
      "exercise\n",
      "2    150\n",
      "9    147\n",
      "3    147\n",
      "6    145\n",
      "1    135\n",
      "0    135\n",
      "5    126\n",
      "4    120\n",
      "8     72\n",
      "7     60\n",
      "Name: count, dtype: int64\n",
      "exercise\n",
      "5    74\n",
      "0    65\n",
      "1    65\n",
      "4    54\n",
      "9    53\n",
      "3    53\n",
      "6    51\n",
      "2    50\n",
      "7    38\n",
      "8    28\n",
      "Name: count, dtype: int64\n",
      "1237\n",
      "531\n"
     ]
    }
   ],
   "source": [
    "print(y_train_un_s.value_counts())\n",
    "print(y_test_un_s.value_counts())\n",
    "\n",
    "print(y_train_un_s.value_counts().sum())\n",
    "print(y_test_un_s.value_counts().sum())"
   ]
  },
  {
   "cell_type": "code",
   "execution_count": 27,
   "id": "daa704fc-fa1c-4d56-962e-01e25e3989d8",
   "metadata": {
    "tags": []
   },
   "outputs": [],
   "source": [
    "# Unstratified split using train_test_split on unscaled\n",
    "\n",
    "X_train_un_n, X_test_un_n, y_train_un_n, y_test_un_n = train_test_split(X_norm, y_norm, test_size = 0.3, random_state = 3)"
   ]
  },
  {
   "cell_type": "markdown",
   "id": "cc5e12a6-a662-4fc9-9c8c-85bc9a340260",
   "metadata": {
    "tags": []
   },
   "source": [
    "Below is a plot to see the breakdown of the target data with the different splitting methods. "
   ]
  },
  {
   "cell_type": "code",
   "execution_count": 28,
   "id": "53c0ad0c-4ab4-4977-b117-adcbb38513ac",
   "metadata": {
    "tags": []
   },
   "outputs": [
    {
     "data": {
      "image/png": "[encoded data removed]",
      "text/plain": [
       "<Figure size 1200x300 with 4 Axes>"
      ]
     },
     "metadata": {},
     "output_type": "display_data"
    }
   ],
   "source": [
    "# Visualizing the differences in splitting methods\n",
    "\n",
    "max_count_test = max(y_train_strat_s.value_counts().max(), y_test_un_s.value_counts().max())\n",
    "\n",
    "plt.figure(figsize=(12, 3))\n",
    "\n",
    "plt.subplot(1, 4, 1)\n",
    "sns.countplot(x=y_train_strat_s)\n",
    "plt.ylim(0, max_count_test)  \n",
    "plt.title('y train - Stratified')\n",
    "\n",
    "plt.subplot(1, 4, 2)\n",
    "sns.countplot(x=y_train_un_s)\n",
    "plt.ylim(0, max_count_test) \n",
    "plt.title('y train - Unstratified')\n",
    "\n",
    "plt.subplot(1, 4, 3)\n",
    "sns.countplot(x=y_test_strat_s)\n",
    "plt.title('y test - Stratified')\n",
    "\n",
    "plt.subplot(1, 4, 4)\n",
    "sns.countplot(x=y_test_un_s)\n",
    "plt.title('y test - Unstratified')\n",
    "\n",
    "plt.tight_layout()\n",
    "plt.subplots_adjust(wspace=0.4)  \n",
    "plt.show()\n"
   ]
  },
  {
   "cell_type": "markdown",
   "id": "a034b9fc-8da5-491a-a0f0-c1782b6526a4",
   "metadata": {},
   "source": [
    "# Modelling"
   ]
  },
  {
   "cell_type": "markdown",
   "id": "34c93986-6691-41a7-8cd4-97244d4e164f",
   "metadata": {},
   "source": [
    "## RandomForest"
   ]
  },
  {
   "cell_type": "code",
   "execution_count": 29,
   "id": "e5c50766-be5d-4822-9554-e72ee467b01b",
   "metadata": {
    "tags": []
   },
   "outputs": [],
   "source": [
    "# setting up basic model\n",
    "\n",
    "rfc = RandomForestClassifier(random_state = 3)"
   ]
  },
  {
   "cell_type": "markdown",
   "id": "53af5cc2-86e5-447e-83bd-f6da83872ecf",
   "metadata": {},
   "source": [
    "#### Stratified/Scaled"
   ]
  },
  {
   "cell_type": "code",
   "execution_count": 31,
   "id": "be92f5fa-1a07-4a93-b321-799c3a2c4dab",
   "metadata": {
    "tags": []
   },
   "outputs": [
    {
     "data": {
      "text/html": [
       "<style>#sk-container-id-2 {color: black;}#sk-container-id-2 pre{padding: 0;}#sk-container-id-2 div.sk-toggleable {background-color: white;}#sk-container-id-2 label.sk-toggleable__label {cursor: pointer;display: block;width: 100%;margin-bottom: 0;padding: 0.3em;box-sizing: border-box;text-align: center;}#sk-container-id-2 label.sk-toggleable__label-arrow:before {content: \"▸\";float: left;margin-right: 0.25em;color: #696969;}#sk-container-id-2 label.sk-toggleable__label-arrow:hover:before {color: black;}#sk-container-id-2 div.sk-estimator:hover label.sk-toggleable__label-arrow:before {color: black;}#sk-container-id-2 div.sk-toggleable__content {max-height: 0;max-width: 0;overflow: hidden;text-align: left;background-color: #f0f8ff;}#sk-container-id-2 div.sk-toggleable__content pre {margin: 0.2em;color: black;border-radius: 0.25em;background-color: #f0f8ff;}#sk-container-id-2 input.sk-toggleable__control:checked~div.sk-toggleable__content {max-height: 200px;max-width: 100%;overflow: auto;}#sk-container-id-2 input.sk-toggleable__control:checked~label.sk-toggleable__label-arrow:before {content: \"▾\";}#sk-container-id-2 div.sk-estimator input.sk-toggleable__control:checked~label.sk-toggleable__label {background-color: #d4ebff;}#sk-container-id-2 div.sk-label input.sk-toggleable__control:checked~label.sk-toggleable__label {background-color: #d4ebff;}#sk-container-id-2 input.sk-hidden--visually {border: 0;clip: rect(1px 1px 1px 1px);clip: rect(1px, 1px, 1px, 1px);height: 1px;margin: -1px;overflow: hidden;padding: 0;position: absolute;width: 1px;}#sk-container-id-2 div.sk-estimator {font-family: monospace;background-color: #f0f8ff;border: 1px dotted black;border-radius: 0.25em;box-sizing: border-box;margin-bottom: 0.5em;}#sk-container-id-2 div.sk-estimator:hover {background-color: #d4ebff;}#sk-container-id-2 div.sk-parallel-item::after {content: \"\";width: 100%;border-bottom: 1px solid gray;flex-grow: 1;}#sk-container-id-2 div.sk-label:hover label.sk-toggleable__label {background-color: #d4ebff;}#sk-container-id-2 div.sk-serial::before {content: \"\";position: absolute;border-left: 1px solid gray;box-sizing: border-box;top: 0;bottom: 0;left: 50%;z-index: 0;}#sk-container-id-2 div.sk-serial {display: flex;flex-direction: column;align-items: center;background-color: white;padding-right: 0.2em;padding-left: 0.2em;position: relative;}#sk-container-id-2 div.sk-item {position: relative;z-index: 1;}#sk-container-id-2 div.sk-parallel {display: flex;align-items: stretch;justify-content: center;background-color: white;position: relative;}#sk-container-id-2 div.sk-item::before, #sk-container-id-2 div.sk-parallel-item::before {content: \"\";position: absolute;border-left: 1px solid gray;box-sizing: border-box;top: 0;bottom: 0;left: 50%;z-index: -1;}#sk-container-id-2 div.sk-parallel-item {display: flex;flex-direction: column;z-index: 1;position: relative;background-color: white;}#sk-container-id-2 div.sk-parallel-item:first-child::after {align-self: flex-end;width: 50%;}#sk-container-id-2 div.sk-parallel-item:last-child::after {align-self: flex-start;width: 50%;}#sk-container-id-2 div.sk-parallel-item:only-child::after {width: 0;}#sk-container-id-2 div.sk-dashed-wrapped {border: 1px dashed gray;margin: 0 0.4em 0.5em 0.4em;box-sizing: border-box;padding-bottom: 0.4em;background-color: white;}#sk-container-id-2 div.sk-label label {font-family: monospace;font-weight: bold;display: inline-block;line-height: 1.2em;}#sk-container-id-2 div.sk-label-container {text-align: center;}#sk-container-id-2 div.sk-container {/* jupyter's `normalize.less` sets `[hidden] { display: none; }` but bootstrap.min.css set `[hidden] { display: none !important; }` so we also need the `!important` here to be able to override the default hidden behavior on the sphinx rendered scikit-learn.org. See: https://github.com/scikit-learn/scikit-learn/issues/21755 */display: inline-block !important;position: relative;}#sk-container-id-2 div.sk-text-repr-fallback {display: none;}</style><div id=\"sk-container-id-2\" class=\"sk-top-container\"><div class=\"sk-text-repr-fallback\"><pre>RandomForestClassifier(random_state=3)</pre><b>In a Jupyter environment, please rerun this cell to show the HTML representation or trust the notebook. <br />On GitHub, the HTML representation is unable to render, please try loading this page with nbviewer.org.</b></div><div class=\"sk-container\" hidden><div class=\"sk-item\"><div class=\"sk-estimator sk-toggleable\"><input class=\"sk-toggleable__control sk-hidden--visually\" id=\"sk-estimator-id-2\" type=\"checkbox\" checked><label for=\"sk-estimator-id-2\" class=\"sk-toggleable__label sk-toggleable__label-arrow\">RandomForestClassifier</label><div class=\"sk-toggleable__content\"><pre>RandomForestClassifier(random_state=3)</pre></div></div></div></div></div>"
      ],
      "text/plain": [
       "RandomForestClassifier(random_state=3)"
      ]
     },
     "execution_count": 31,
     "metadata": {},
     "output_type": "execute_result"
    }
   ],
   "source": [
    "# fitting the model to the stratified/scaled data\n",
    "\n",
    "rfc.fit(X_train_strat_s, y_train_strat_s)"
   ]
  },
  {
   "cell_type": "code",
   "execution_count": 32,
   "id": "7c363802-97d2-4d5d-a1cf-fed865afc3c3",
   "metadata": {
    "tags": []
   },
   "outputs": [],
   "source": [
    "# running the predictions on training and testing data\n",
    "\n",
    "y_train_pred_strat_s = rfc.predict(X_train_strat_s)\n",
    "y_test_pred_strat_s = rfc.predict(X_test_strat_s)"
   ]
  },
  {
   "cell_type": "code",
   "execution_count": 35,
   "id": "9975879f-41f5-4e6a-b44f-040888945780",
   "metadata": {
    "tags": []
   },
   "outputs": [
    {
     "name": "stdout",
     "output_type": "stream",
     "text": [
      "Training accuracy (Scaled/Stratified) : 1.0\n",
      "Testing accuracy  (Scaled/Stratified) : 0.9011299435028248\n"
     ]
    }
   ],
   "source": [
    "# accuracy results for basic RandomForestClassifier\n",
    "\n",
    "print('Training accuracy (Scaled/Stratified) :',accuracy_score(y_train_strat_s, y_train_pred_strat_s))\n",
    "print('Testing accuracy  (Scaled/Stratified) :' ,accuracy_score(y_test_strat_s, y_test_pred_strat_s))"
   ]
  },
  {
   "cell_type": "code",
   "execution_count": 36,
   "id": "5015a4d2-8c9d-4fff-918b-e51714cb69ff",
   "metadata": {
    "tags": []
   },
   "outputs": [
    {
     "name": "stdout",
     "output_type": "stream",
     "text": [
      "              precision    recall  f1-score   support\n",
      "\n",
      "           0       1.00      0.90      0.95        40\n",
      "           1       0.84      0.90      0.87        40\n",
      "           2       1.00      1.00      1.00        40\n",
      "           3       1.00      1.00      1.00        40\n",
      "           4       0.82      0.77      0.79        35\n",
      "           5       0.83      0.85      0.84        40\n",
      "           6       0.79      0.95      0.86        39\n",
      "           7       0.89      0.85      0.87        20\n",
      "           8       0.87      0.65      0.74        20\n",
      "           9       0.97      0.97      0.97        40\n",
      "\n",
      "    accuracy                           0.90       354\n",
      "   macro avg       0.90      0.88      0.89       354\n",
      "weighted avg       0.90      0.90      0.90       354\n",
      "\n"
     ]
    }
   ],
   "source": [
    "# Classification Report\n",
    "\n",
    "print(classification_report(y_test_strat_s, y_test_pred_strat_s))"
   ]
  },
  {
   "cell_type": "code",
   "execution_count": 37,
   "id": "61479e3f-21e6-4881-879c-8810d94cb3ba",
   "metadata": {
    "tags": []
   },
   "outputs": [
    {
     "data": {
      "text/plain": [
       "array([[36,  0,  0,  0,  0,  4,  0,  0,  0,  0],\n",
       "       [ 0, 36,  0,  0,  4,  0,  0,  0,  0,  0],\n",
       "       [ 0,  0, 40,  0,  0,  0,  0,  0,  0,  0],\n",
       "       [ 0,  0,  0, 40,  0,  0,  0,  0,  0,  0],\n",
       "       [ 0,  7,  0,  0, 27,  0,  0,  0,  1,  0],\n",
       "       [ 0,  0,  0,  0,  0, 34,  5,  0,  1,  0],\n",
       "       [ 0,  0,  0,  0,  0,  2, 37,  0,  0,  0],\n",
       "       [ 0,  0,  0,  0,  1,  0,  1, 17,  0,  1],\n",
       "       [ 0,  0,  0,  0,  0,  1,  4,  2, 13,  0],\n",
       "       [ 0,  0,  0,  0,  1,  0,  0,  0,  0, 39]], dtype=int64)"
      ]
     },
     "execution_count": 37,
     "metadata": {},
     "output_type": "execute_result"
    }
   ],
   "source": [
    "# Confusion Matrix\n",
    "\n",
    "conf_matrix = confusion_matrix(y_test_strat_s, y_test_pred_strat_s)\n",
    "conf_matrix"
   ]
  },
  {
   "cell_type": "code",
   "execution_count": 40,
   "id": "586781a0-e579-41a6-83db-f800110fb05a",
   "metadata": {
    "tags": []
   },
   "outputs": [
    {
     "data": {
      "image/png": "[encoded data removed]",
      "text/plain": [
       "<Figure size 800x600 with 1 Axes>"
      ]
     },
     "metadata": {},
     "output_type": "display_data"
    }
   ],
   "source": [
    "# Plotting the confusion matrix as a heatmap\n",
    "\n",
    "plt.figure(figsize=(8, 6))\n",
    "class_labels = ['armraise', 'bicep curl', 'birddog', 'burpee', 'crunches', 'hammer curl', 'over head press', 'tricep kickback left', 'tricep kickback right', 'vup']\n",
    "sns.heatmap(conf_matrix, annot=True, fmt='d', cmap='tab10', cbar=False,\n",
    "            xticklabels=class_labels, yticklabels=class_labels)\n",
    "plt.title('Confusion Matrix')\n",
    "plt.xlabel('Predicted')\n",
    "plt.ylabel('Actual')\n",
    "plt.show()\n"
   ]
  },
  {
   "cell_type": "markdown",
   "id": "e9d20634-d150-4cc7-a9e3-511ef6d16033",
   "metadata": {},
   "source": [
    "Misclassification per exercise:\n",
    "\n",
    "0) armraise - 4 > these 4 were predicted to be hammer curls\n",
    "1) bicep curl - 4 > these 4 were predicted to be crunches\n",
    "2) birddog - 0\n",
    "3) burpee - 0\n",
    "4) crunches - 8 > 7/8 were predicted to be bicep curls\n",
    "5) hammer curl - 6 > 5/6 were predicted to be over head presses\n",
    "6) over head press - 2\n",
    "7) tricep kickback left - 3\n",
    "8) tricep kickback right - 7 > 4/7 were predicted to be over head presses\n",
    "9) vup - 1"
   ]
  },
  {
   "cell_type": "markdown",
   "id": "ae9bfeaa-fba2-4840-bf0f-fee7c4d2057a",
   "metadata": {},
   "source": [
    "The model below was performed on the data split without stratification. As you can see below, the stratified method did better, so I will stick with that one. "
   ]
  },
  {
   "cell_type": "markdown",
   "id": "2a412ec5-f2ca-4b0e-9927-37d53b8c6e04",
   "metadata": {},
   "source": [
    "#### Unstratified/Scaled"
   ]
  },
  {
   "cell_type": "code",
   "execution_count": 41,
   "id": "cdb04b6c-8bc0-4db2-9d96-10e156a80a5d",
   "metadata": {
    "tags": []
   },
   "outputs": [
    {
     "data": {
      "text/html": [
       "<style>#sk-container-id-3 {color: black;}#sk-container-id-3 pre{padding: 0;}#sk-container-id-3 div.sk-toggleable {background-color: white;}#sk-container-id-3 label.sk-toggleable__label {cursor: pointer;display: block;width: 100%;margin-bottom: 0;padding: 0.3em;box-sizing: border-box;text-align: center;}#sk-container-id-3 label.sk-toggleable__label-arrow:before {content: \"▸\";float: left;margin-right: 0.25em;color: #696969;}#sk-container-id-3 label.sk-toggleable__label-arrow:hover:before {color: black;}#sk-container-id-3 div.sk-estimator:hover label.sk-toggleable__label-arrow:before {color: black;}#sk-container-id-3 div.sk-toggleable__content {max-height: 0;max-width: 0;overflow: hidden;text-align: left;background-color: #f0f8ff;}#sk-container-id-3 div.sk-toggleable__content pre {margin: 0.2em;color: black;border-radius: 0.25em;background-color: #f0f8ff;}#sk-container-id-3 input.sk-toggleable__control:checked~div.sk-toggleable__content {max-height: 200px;max-width: 100%;overflow: auto;}#sk-container-id-3 input.sk-toggleable__control:checked~label.sk-toggleable__label-arrow:before {content: \"▾\";}#sk-container-id-3 div.sk-estimator input.sk-toggleable__control:checked~label.sk-toggleable__label {background-color: #d4ebff;}#sk-container-id-3 div.sk-label input.sk-toggleable__control:checked~label.sk-toggleable__label {background-color: #d4ebff;}#sk-container-id-3 input.sk-hidden--visually {border: 0;clip: rect(1px 1px 1px 1px);clip: rect(1px, 1px, 1px, 1px);height: 1px;margin: -1px;overflow: hidden;padding: 0;position: absolute;width: 1px;}#sk-container-id-3 div.sk-estimator {font-family: monospace;background-color: #f0f8ff;border: 1px dotted black;border-radius: 0.25em;box-sizing: border-box;margin-bottom: 0.5em;}#sk-container-id-3 div.sk-estimator:hover {background-color: #d4ebff;}#sk-container-id-3 div.sk-parallel-item::after {content: \"\";width: 100%;border-bottom: 1px solid gray;flex-grow: 1;}#sk-container-id-3 div.sk-label:hover label.sk-toggleable__label {background-color: #d4ebff;}#sk-container-id-3 div.sk-serial::before {content: \"\";position: absolute;border-left: 1px solid gray;box-sizing: border-box;top: 0;bottom: 0;left: 50%;z-index: 0;}#sk-container-id-3 div.sk-serial {display: flex;flex-direction: column;align-items: center;background-color: white;padding-right: 0.2em;padding-left: 0.2em;position: relative;}#sk-container-id-3 div.sk-item {position: relative;z-index: 1;}#sk-container-id-3 div.sk-parallel {display: flex;align-items: stretch;justify-content: center;background-color: white;position: relative;}#sk-container-id-3 div.sk-item::before, #sk-container-id-3 div.sk-parallel-item::before {content: \"\";position: absolute;border-left: 1px solid gray;box-sizing: border-box;top: 0;bottom: 0;left: 50%;z-index: -1;}#sk-container-id-3 div.sk-parallel-item {display: flex;flex-direction: column;z-index: 1;position: relative;background-color: white;}#sk-container-id-3 div.sk-parallel-item:first-child::after {align-self: flex-end;width: 50%;}#sk-container-id-3 div.sk-parallel-item:last-child::after {align-self: flex-start;width: 50%;}#sk-container-id-3 div.sk-parallel-item:only-child::after {width: 0;}#sk-container-id-3 div.sk-dashed-wrapped {border: 1px dashed gray;margin: 0 0.4em 0.5em 0.4em;box-sizing: border-box;padding-bottom: 0.4em;background-color: white;}#sk-container-id-3 div.sk-label label {font-family: monospace;font-weight: bold;display: inline-block;line-height: 1.2em;}#sk-container-id-3 div.sk-label-container {text-align: center;}#sk-container-id-3 div.sk-container {/* jupyter's `normalize.less` sets `[hidden] { display: none; }` but bootstrap.min.css set `[hidden] { display: none !important; }` so we also need the `!important` here to be able to override the default hidden behavior on the sphinx rendered scikit-learn.org. See: https://github.com/scikit-learn/scikit-learn/issues/21755 */display: inline-block !important;position: relative;}#sk-container-id-3 div.sk-text-repr-fallback {display: none;}</style><div id=\"sk-container-id-3\" class=\"sk-top-container\"><div class=\"sk-text-repr-fallback\"><pre>RandomForestClassifier(random_state=3)</pre><b>In a Jupyter environment, please rerun this cell to show the HTML representation or trust the notebook. <br />On GitHub, the HTML representation is unable to render, please try loading this page with nbviewer.org.</b></div><div class=\"sk-container\" hidden><div class=\"sk-item\"><div class=\"sk-estimator sk-toggleable\"><input class=\"sk-toggleable__control sk-hidden--visually\" id=\"sk-estimator-id-3\" type=\"checkbox\" checked><label for=\"sk-estimator-id-3\" class=\"sk-toggleable__label sk-toggleable__label-arrow\">RandomForestClassifier</label><div class=\"sk-toggleable__content\"><pre>RandomForestClassifier(random_state=3)</pre></div></div></div></div></div>"
      ],
      "text/plain": [
       "RandomForestClassifier(random_state=3)"
      ]
     },
     "execution_count": 41,
     "metadata": {},
     "output_type": "execute_result"
    }
   ],
   "source": [
    "# fitting model to unstratified dataset\n",
    "\n",
    "rfc.fit(X_train_un_s, y_train_un_s)"
   ]
  },
  {
   "cell_type": "code",
   "execution_count": 42,
   "id": "3ea242ac-26c1-46ad-a882-1151b2ef3da2",
   "metadata": {
    "tags": []
   },
   "outputs": [],
   "source": [
    "# running the predictions on training and testing data\n",
    "\n",
    "y_train_pred_un_s = rfc.predict(X_train_un_s)\n",
    "y_test_pred_un_s = rfc.predict(X_test_un_s)"
   ]
  },
  {
   "cell_type": "code",
   "execution_count": 43,
   "id": "bce8f4e2-34ac-4ae1-a553-40d139219173",
   "metadata": {
    "tags": []
   },
   "outputs": [
    {
     "name": "stdout",
     "output_type": "stream",
     "text": [
      "Train accuracy: 1.0\n",
      "Test accuracy: 0.8813559322033898\n"
     ]
    }
   ],
   "source": [
    "# Accuracy results for this model\n",
    "\n",
    "print('Train accuracy:',accuracy_score(y_train_un_s, y_train_pred_un_s))\n",
    "print('Test accuracy:',accuracy_score(y_test_un_s, y_test_pred_un_s))"
   ]
  },
  {
   "cell_type": "code",
   "execution_count": 49,
   "id": "2faf7eef-ad71-4aed-b471-8e9c282d650d",
   "metadata": {
    "tags": []
   },
   "outputs": [
    {
     "name": "stdout",
     "output_type": "stream",
     "text": [
      "              precision    recall  f1-score   support\n",
      "\n",
      "           0       0.91      0.94      0.92        65\n",
      "           1       0.89      0.91      0.90        65\n",
      "           2       1.00      1.00      1.00        50\n",
      "           3       1.00      1.00      1.00        53\n",
      "           4       0.83      0.83      0.83        54\n",
      "           5       0.83      0.73      0.78        74\n",
      "           6       0.70      0.96      0.81        51\n",
      "           7       0.89      0.63      0.74        38\n",
      "           8       0.80      0.71      0.75        28\n",
      "           9       0.98      1.00      0.99        53\n",
      "\n",
      "    accuracy                           0.88       531\n",
      "   macro avg       0.88      0.87      0.87       531\n",
      "weighted avg       0.89      0.88      0.88       531\n",
      "\n"
     ]
    }
   ],
   "source": [
    "# Classification Report\n",
    "\n",
    "print(classification_report(y_test_un_s, y_test_pred_un_s))\n"
   ]
  },
  {
   "cell_type": "code",
   "execution_count": 48,
   "id": "7c3bbea2-b2b6-4848-a43e-1d65e19a6b6c",
   "metadata": {
    "tags": []
   },
   "outputs": [
    {
     "data": {
      "text/plain": [
       "array([[61,  0,  0,  0,  0,  4,  0,  0,  0,  0],\n",
       "       [ 0, 59,  0,  0,  6,  0,  0,  0,  0,  0],\n",
       "       [ 0,  0, 50,  0,  0,  0,  0,  0,  0,  0],\n",
       "       [ 0,  0,  0, 53,  0,  0,  0,  0,  0,  0],\n",
       "       [ 0,  7,  0,  0, 45,  1,  0,  0,  0,  1],\n",
       "       [ 6,  0,  0,  0,  0, 54, 12,  0,  2,  0],\n",
       "       [ 0,  0,  0,  0,  0,  2, 49,  0,  0,  0],\n",
       "       [ 0,  0,  0,  0,  2,  4,  5, 24,  3,  0],\n",
       "       [ 0,  0,  0,  0,  1,  0,  4,  3, 20,  0],\n",
       "       [ 0,  0,  0,  0,  0,  0,  0,  0,  0, 53]], dtype=int64)"
      ]
     },
     "execution_count": 48,
     "metadata": {},
     "output_type": "execute_result"
    }
   ],
   "source": [
    "# Confusion Matrix\n",
    "\n",
    "conf_matrix = confusion_matrix(y_test_un_s, y_test_pred_un_s)\n",
    "conf_matrix"
   ]
  },
  {
   "cell_type": "code",
   "execution_count": 47,
   "id": "c119051b-190e-4253-b0a3-e731bb255be8",
   "metadata": {
    "tags": []
   },
   "outputs": [
    {
     "data": {
      "image/png": "[encoded data removed]",
      "text/plain": [
       "<Figure size 800x600 with 1 Axes>"
      ]
     },
     "metadata": {},
     "output_type": "display_data"
    }
   ],
   "source": [
    "# Plotting the confusion matrix as a heatmap\n",
    "\n",
    "plt.figure(figsize=(8, 6))\n",
    "class_labels = ['armraise', 'bicep curl', 'birddog', 'burpee', 'crunches', 'hammer curl', 'over head press', 'tricep kickback left', 'tricep kickback right', 'vup']\n",
    "sns.heatmap(conf_matrix, annot=True, fmt='d', cmap='tab10', cbar=False,\n",
    "            xticklabels=class_labels, yticklabels=class_labels)\n",
    "plt.title('Confusion Matrix')\n",
    "plt.xlabel('Predicted')\n",
    "plt.ylabel('Actual')\n",
    "plt.show()\n"
   ]
  },
  {
   "cell_type": "markdown",
   "id": "ad1967e0-cc16-403d-bc35-220bf67beafb",
   "metadata": {},
   "source": [
    "Misclassification per exercise: The first number is from the confusion matrix with the stratified data. Looks like that did a better job over all.\n",
    "\n",
    "0) armraise - 4 - 4\n",
    "1) bicep curl - 4 - 6\n",
    "2) birddog - 0 - 0\n",
    "3) burpee - 0 - 0\n",
    "4) crunches - 8 - 9\n",
    "5) hammer curl - 6 - 20\n",
    "6) over head press - 2 - 2\n",
    "7) tricep kickback left - 3 - 14\n",
    "8) tricep kickback right - 7 - 8\n",
    "9) vup - 1 - 0"
   ]
  },
  {
   "cell_type": "markdown",
   "id": "80df05fd-ebf9-438e-bcf1-8f7dedb3e53a",
   "metadata": {},
   "source": [
    "As the scaling doesn't matter for the RandomForestClassifier I won't be looking at that set."
   ]
  },
  {
   "cell_type": "markdown",
   "id": "7ae79198-82e8-4783-9d36-fedb83fcb993",
   "metadata": {},
   "source": [
    "### Hyperparameter Tuning for RandomForest"
   ]
  },
  {
   "cell_type": "markdown",
   "id": "04ec4443-4016-4491-acf7-b36125176525",
   "metadata": {},
   "source": [
    "I will be using GridSearchCV to assess optimal parameters for my models. Because the stratified split data did better for the base model I will be using that for my hyperparameter tuning."
   ]
  },
  {
   "cell_type": "code",
   "execution_count": 51,
   "id": "5a7be2ff-a02a-4bf7-9665-b3819e99077d",
   "metadata": {
    "tags": []
   },
   "outputs": [],
   "source": [
    "# Parameter settings\n",
    "\n",
    "param_grid = {\n",
    "    'n_estimators': [10, 50, 100],\n",
    "    'max_depth': [None, 10, 20, 30],\n",
    "    'min_samples_split': [2, 5, 10],\n",
    "    'min_samples_leaf': [1, 2, 4],\n",
    "    'max_features': ['sqrt', 'log2', None]\n",
    "}"
   ]
  },
  {
   "cell_type": "markdown",
   "id": "86c7a2d2-6a83-4153-8309-896fdcc19454",
   "metadata": {},
   "source": [
    "This model took some time to run. Just something to keep in mind before executing it."
   ]
  },
  {
   "cell_type": "code",
   "execution_count": 52,
   "id": "35225564-4199-4114-be98-8b0122a5c092",
   "metadata": {},
   "outputs": [
    {
     "name": "stdout",
     "output_type": "stream",
     "text": [
      "Best Hyperparameters: {'max_depth': None, 'max_features': 'sqrt', 'min_samples_leaf': 1, 'min_samples_split': 2, 'n_estimators': 100}\n"
     ]
    }
   ],
   "source": [
    "# Using GridSearchCV\n",
    "\n",
    "grid_search_rfc = GridSearchCV(rfc, param_grid, cv=5, n_jobs=-1)\n",
    "grid_search_rfc.fit(X_train_strat_s, y_train_strat_s)\n",
    "\n",
    "print(\"Best Hyperparameters:\", grid_search_rfc.best_params_)\n",
    "\n",
    "best_model = grid_search_rfc.best_estimator_\n"
   ]
  },
  {
   "cell_type": "code",
   "execution_count": 53,
   "id": "32e05e0a-fca9-484d-b8a2-6506f3b6ec44",
   "metadata": {},
   "outputs": [],
   "source": [
    "y_pred_best_model_strat_s = best_model.predict(X_test_strat_s)"
   ]
  },
  {
   "cell_type": "code",
   "execution_count": 55,
   "id": "a606c7fe-2f72-4b21-bc30-329a2e22193f",
   "metadata": {},
   "outputs": [
    {
     "name": "stdout",
     "output_type": "stream",
     "text": [
      "Accuracy score : 0.9011299435028248\n"
     ]
    }
   ],
   "source": [
    "print('Accuracy score :', accuracy_score(y_test_strat_s, y_pred_best_model_strat_s))"
   ]
  },
  {
   "cell_type": "code",
   "execution_count": 56,
   "id": "5dc19fef-2ce6-426f-87ad-149160a0c1cb",
   "metadata": {
    "tags": []
   },
   "outputs": [
    {
     "data": {
      "text/plain": [
       "array([[36,  0,  0,  0,  0,  4,  0,  0,  0,  0],\n",
       "       [ 0, 36,  0,  0,  4,  0,  0,  0,  0,  0],\n",
       "       [ 0,  0, 40,  0,  0,  0,  0,  0,  0,  0],\n",
       "       [ 0,  0,  0, 40,  0,  0,  0,  0,  0,  0],\n",
       "       [ 0,  7,  0,  0, 27,  0,  0,  0,  1,  0],\n",
       "       [ 0,  0,  0,  0,  0, 34,  5,  0,  1,  0],\n",
       "       [ 0,  0,  0,  0,  0,  2, 37,  0,  0,  0],\n",
       "       [ 0,  0,  0,  0,  1,  0,  1, 17,  0,  1],\n",
       "       [ 0,  0,  0,  0,  0,  1,  4,  2, 13,  0],\n",
       "       [ 0,  0,  0,  0,  1,  0,  0,  0,  0, 39]], dtype=int64)"
      ]
     },
     "execution_count": 56,
     "metadata": {},
     "output_type": "execute_result"
    }
   ],
   "source": [
    "# Confusion Matrix\n",
    "\n",
    "conf_matrix = confusion_matrix(y_test_strat_s, y_pred_best_model_strat_s)\n",
    "conf_matrix"
   ]
  },
  {
   "cell_type": "markdown",
   "id": "a514ccdb-99fc-4dde-b207-83d42b6a5655",
   "metadata": {
    "tags": []
   },
   "source": [
    "Seems like the hyperparameter tuning made zero difference with this model. Lets give some other models a try."
   ]
  },
  {
   "cell_type": "markdown",
   "id": "0729b355-ff88-4835-9aa6-0020a4f0a850",
   "metadata": {
    "tags": []
   },
   "source": [
    "## SVM"
   ]
  },
  {
   "cell_type": "markdown",
   "id": "4ec05954-7199-4278-982b-e748ae0f8dcc",
   "metadata": {},
   "source": [
    "#### Stratified/Scaled"
   ]
  },
  {
   "cell_type": "code",
   "execution_count": 57,
   "id": "6d3afdef-5859-4dc8-8e9e-78ed400cfd56",
   "metadata": {
    "tags": []
   },
   "outputs": [
    {
     "name": "stdout",
     "output_type": "stream",
     "text": [
      "Training accuracy: 0.9123055162659123\n",
      "Test accuracy: 0.788135593220339\n"
     ]
    }
   ],
   "source": [
    "# Trying a quick SVM run through with stratified/scaled data\n",
    "\n",
    "svm_model = SVC(kernel='rbf', C=1)\n",
    "svm_model.fit(X_train_strat_s, y_train_strat_s)\n",
    "\n",
    "y_pred_svm_train_strat_s = svm_model.predict(X_train_strat_s)\n",
    "print('Training accuracy:', accuracy_score(y_train_strat_s, y_pred_svm_train_strat_s))\n",
    "\n",
    "y_pred_svm_test_strat_s = svm_model.predict(X_test_strat_s)\n",
    "print('Test accuracy:', accuracy_score(y_test_strat_s, y_pred_svm_test_strat_s))"
   ]
  },
  {
   "cell_type": "code",
   "execution_count": 58,
   "id": "f63c2b93-65f7-436b-ae71-6c875b0ea13c",
   "metadata": {
    "tags": []
   },
   "outputs": [
    {
     "name": "stdout",
     "output_type": "stream",
     "text": [
      "              precision    recall  f1-score   support\n",
      "\n",
      "           0       0.92      0.90      0.91        40\n",
      "           1       0.79      0.78      0.78        40\n",
      "           2       1.00      1.00      1.00        40\n",
      "           3       1.00      1.00      1.00        40\n",
      "           4       0.68      0.74      0.71        35\n",
      "           5       0.50      0.53      0.51        40\n",
      "           6       0.49      0.64      0.56        39\n",
      "           7       0.85      0.55      0.67        20\n",
      "           8       0.77      0.50      0.61        20\n",
      "           9       1.00      0.97      0.99        40\n",
      "\n",
      "    accuracy                           0.79       354\n",
      "   macro avg       0.80      0.76      0.77       354\n",
      "weighted avg       0.80      0.79      0.79       354\n",
      "\n"
     ]
    }
   ],
   "source": [
    "#Classification Report\n",
    "\n",
    "print(classification_report(y_test_strat_s, y_pred_svm_test_strat_s))"
   ]
  },
  {
   "cell_type": "markdown",
   "id": "f30fe7e4-9094-4655-9757-8339bbf68789",
   "metadata": {},
   "source": [
    "Clearly not as good as the RandomForest model off the bat, but of course we will try some hyperparameter tuning with GridSearchCV to see if we can make it better."
   ]
  },
  {
   "cell_type": "markdown",
   "id": "e8d34207-5586-431d-b340-ead8e5ef030c",
   "metadata": {},
   "source": [
    "#### Unstratified/Scaled"
   ]
  },
  {
   "cell_type": "code",
   "execution_count": 73,
   "id": "fac4ceae-39e9-464e-b61f-cc48efbd7924",
   "metadata": {
    "tags": []
   },
   "outputs": [
    {
     "name": "stdout",
     "output_type": "stream",
     "text": [
      "Training accuracy: 0.9078415521422797\n",
      "Test accuracy: 0.7344632768361582\n"
     ]
    }
   ],
   "source": [
    "# Trying a quick SVM run through with unstratified/scaled data\n",
    "\n",
    "svm_model = SVC(kernel='rbf', C=1)\n",
    "svm_model.fit(X_train_un_s, y_train_un_s)\n",
    "\n",
    "y_pred_svm_train_un_s = svm_model.predict(X_train_un_s)\n",
    "print('Training accuracy:', accuracy_score(y_train_un_s, y_pred_svm_train_un_s))\n",
    "\n",
    "y_pred_svm_test_un_s = svm_model.predict(X_test_un_s)\n",
    "print('Test accuracy:', accuracy_score(y_test_un_s, y_pred_svm_test_un_s))"
   ]
  },
  {
   "cell_type": "markdown",
   "id": "71cbdcd4-821c-4de5-aab0-d0cd87a1940d",
   "metadata": {},
   "source": [
    "Again the unstratified data did not do as well, we will not revisit it again after this model."
   ]
  },
  {
   "cell_type": "markdown",
   "id": "b325a7ba-66e0-4941-95f0-facf44319c7b",
   "metadata": {},
   "source": [
    "#### Stratified/Not Scaled"
   ]
  },
  {
   "cell_type": "markdown",
   "id": "2de3a658-da73-43f7-9f8f-5063c0909158",
   "metadata": {},
   "source": [
    "The model runs with the unscaled data is for my personal interest to see how much of a differenct it makes for this data. "
   ]
  },
  {
   "cell_type": "code",
   "execution_count": 59,
   "id": "8abf27da-6ca6-4f79-a26c-55c3cade4007",
   "metadata": {
    "tags": []
   },
   "outputs": [
    {
     "name": "stdout",
     "output_type": "stream",
     "text": [
      "Training accuracy: 0.8804809052333805\n",
      "Test accuracy: 0.7570621468926554\n"
     ]
    }
   ],
   "source": [
    "# Trying a quick SVM run through with stratified/not scaled data\n",
    "\n",
    "svm_model = SVC(kernel='rbf', C=1)\n",
    "svm_model.fit(X_train_strat_n, y_train_strat_n)\n",
    "\n",
    "y_pred_svm_train_strat_n = svm_model.predict(X_train_strat_n)\n",
    "print('Training accuracy:', accuracy_score(y_train_strat_n, y_pred_svm_train_strat_n))\n",
    "\n",
    "y_pred_svm_test_strat_n = svm_model.predict(X_test_strat_n)\n",
    "print('Test accuracy:', accuracy_score(y_test_strat_n, y_pred_svm_test_strat_n))"
   ]
  },
  {
   "cell_type": "markdown",
   "id": "0f615912-77e3-4128-86b5-ef8bb758f52a",
   "metadata": {},
   "source": [
    "#### Unstratified/Not Scaled"
   ]
  },
  {
   "cell_type": "code",
   "execution_count": 60,
   "id": "d489a2f6-da02-4beb-b3f5-426dbb485264",
   "metadata": {
    "tags": []
   },
   "outputs": [
    {
     "name": "stdout",
     "output_type": "stream",
     "text": [
      "Training accuracy: 0.8617623282134196\n",
      "Test accuracy: 0.6892655367231638\n"
     ]
    }
   ],
   "source": [
    "# Trying a quick SVM run through with unstratified/not scaled data\n",
    "\n",
    "svm_model = SVC(kernel='rbf', C=1)\n",
    "svm_model.fit(X_train_un_n, y_train_un_n)\n",
    "\n",
    "y_pred_svm_train_un_n = svm_model.predict(X_train_un_n)\n",
    "print('Training accuracy:', accuracy_score(y_train_un_n, y_pred_svm_train_un_n))\n",
    "\n",
    "y_pred_svm_test_un_n = svm_model.predict(X_test_un_n)\n",
    "print('Test accuracy:', accuracy_score(y_test_un_n, y_pred_svm_test_un_n))"
   ]
  },
  {
   "cell_type": "markdown",
   "id": "71d710a0-a14e-4259-b28f-d2eae3f07be3",
   "metadata": {},
   "source": [
    "The unscaled data was worse all around for the SVM model. Not that that was unexpected result. We will also leave the unscaled data behind at this point."
   ]
  },
  {
   "cell_type": "markdown",
   "id": "56855d9b-e1c9-4bac-9db5-399ba790f31b",
   "metadata": {},
   "source": [
    "### SVM Hypertuning with GridSearchCV"
   ]
  },
  {
   "cell_type": "code",
   "execution_count": 61,
   "id": "c8858115-a111-4882-b62f-cc7cba2ff712",
   "metadata": {
    "tags": []
   },
   "outputs": [
    {
     "data": {
      "text/html": [
       "<style>#sk-container-id-4 {color: black;}#sk-container-id-4 pre{padding: 0;}#sk-container-id-4 div.sk-toggleable {background-color: white;}#sk-container-id-4 label.sk-toggleable__label {cursor: pointer;display: block;width: 100%;margin-bottom: 0;padding: 0.3em;box-sizing: border-box;text-align: center;}#sk-container-id-4 label.sk-toggleable__label-arrow:before {content: \"▸\";float: left;margin-right: 0.25em;color: #696969;}#sk-container-id-4 label.sk-toggleable__label-arrow:hover:before {color: black;}#sk-container-id-4 div.sk-estimator:hover label.sk-toggleable__label-arrow:before {color: black;}#sk-container-id-4 div.sk-toggleable__content {max-height: 0;max-width: 0;overflow: hidden;text-align: left;background-color: #f0f8ff;}#sk-container-id-4 div.sk-toggleable__content pre {margin: 0.2em;color: black;border-radius: 0.25em;background-color: #f0f8ff;}#sk-container-id-4 input.sk-toggleable__control:checked~div.sk-toggleable__content {max-height: 200px;max-width: 100%;overflow: auto;}#sk-container-id-4 input.sk-toggleable__control:checked~label.sk-toggleable__label-arrow:before {content: \"▾\";}#sk-container-id-4 div.sk-estimator input.sk-toggleable__control:checked~label.sk-toggleable__label {background-color: #d4ebff;}#sk-container-id-4 div.sk-label input.sk-toggleable__control:checked~label.sk-toggleable__label {background-color: #d4ebff;}#sk-container-id-4 input.sk-hidden--visually {border: 0;clip: rect(1px 1px 1px 1px);clip: rect(1px, 1px, 1px, 1px);height: 1px;margin: -1px;overflow: hidden;padding: 0;position: absolute;width: 1px;}#sk-container-id-4 div.sk-estimator {font-family: monospace;background-color: #f0f8ff;border: 1px dotted black;border-radius: 0.25em;box-sizing: border-box;margin-bottom: 0.5em;}#sk-container-id-4 div.sk-estimator:hover {background-color: #d4ebff;}#sk-container-id-4 div.sk-parallel-item::after {content: \"\";width: 100%;border-bottom: 1px solid gray;flex-grow: 1;}#sk-container-id-4 div.sk-label:hover label.sk-toggleable__label {background-color: #d4ebff;}#sk-container-id-4 div.sk-serial::before {content: \"\";position: absolute;border-left: 1px solid gray;box-sizing: border-box;top: 0;bottom: 0;left: 50%;z-index: 0;}#sk-container-id-4 div.sk-serial {display: flex;flex-direction: column;align-items: center;background-color: white;padding-right: 0.2em;padding-left: 0.2em;position: relative;}#sk-container-id-4 div.sk-item {position: relative;z-index: 1;}#sk-container-id-4 div.sk-parallel {display: flex;align-items: stretch;justify-content: center;background-color: white;position: relative;}#sk-container-id-4 div.sk-item::before, #sk-container-id-4 div.sk-parallel-item::before {content: \"\";position: absolute;border-left: 1px solid gray;box-sizing: border-box;top: 0;bottom: 0;left: 50%;z-index: -1;}#sk-container-id-4 div.sk-parallel-item {display: flex;flex-direction: column;z-index: 1;position: relative;background-color: white;}#sk-container-id-4 div.sk-parallel-item:first-child::after {align-self: flex-end;width: 50%;}#sk-container-id-4 div.sk-parallel-item:last-child::after {align-self: flex-start;width: 50%;}#sk-container-id-4 div.sk-parallel-item:only-child::after {width: 0;}#sk-container-id-4 div.sk-dashed-wrapped {border: 1px dashed gray;margin: 0 0.4em 0.5em 0.4em;box-sizing: border-box;padding-bottom: 0.4em;background-color: white;}#sk-container-id-4 div.sk-label label {font-family: monospace;font-weight: bold;display: inline-block;line-height: 1.2em;}#sk-container-id-4 div.sk-label-container {text-align: center;}#sk-container-id-4 div.sk-container {/* jupyter's `normalize.less` sets `[hidden] { display: none; }` but bootstrap.min.css set `[hidden] { display: none !important; }` so we also need the `!important` here to be able to override the default hidden behavior on the sphinx rendered scikit-learn.org. See: https://github.com/scikit-learn/scikit-learn/issues/21755 */display: inline-block !important;position: relative;}#sk-container-id-4 div.sk-text-repr-fallback {display: none;}</style><div id=\"sk-container-id-4\" class=\"sk-top-container\"><div class=\"sk-text-repr-fallback\"><pre>GridSearchCV(cv=5, estimator=SVC(),\n",
       "             param_grid={&#x27;C&#x27;: [0.001, 0.005, 0.01, 0.05, 0.1, 0.5, 1, 5, 10, 50,\n",
       "                               100, 500, 1000],\n",
       "                         &#x27;degree&#x27;: [2, 3, 4, 5],\n",
       "                         &#x27;gamma&#x27;: [1, 0.1, 0.01, 0.001, 0.0001],\n",
       "                         &#x27;kernel&#x27;: [&#x27;rbf&#x27;, &#x27;poly&#x27;]})</pre><b>In a Jupyter environment, please rerun this cell to show the HTML representation or trust the notebook. <br />On GitHub, the HTML representation is unable to render, please try loading this page with nbviewer.org.</b></div><div class=\"sk-container\" hidden><div class=\"sk-item sk-dashed-wrapped\"><div class=\"sk-label-container\"><div class=\"sk-label sk-toggleable\"><input class=\"sk-toggleable__control sk-hidden--visually\" id=\"sk-estimator-id-4\" type=\"checkbox\" ><label for=\"sk-estimator-id-4\" class=\"sk-toggleable__label sk-toggleable__label-arrow\">GridSearchCV</label><div class=\"sk-toggleable__content\"><pre>GridSearchCV(cv=5, estimator=SVC(),\n",
       "             param_grid={&#x27;C&#x27;: [0.001, 0.005, 0.01, 0.05, 0.1, 0.5, 1, 5, 10, 50,\n",
       "                               100, 500, 1000],\n",
       "                         &#x27;degree&#x27;: [2, 3, 4, 5],\n",
       "                         &#x27;gamma&#x27;: [1, 0.1, 0.01, 0.001, 0.0001],\n",
       "                         &#x27;kernel&#x27;: [&#x27;rbf&#x27;, &#x27;poly&#x27;]})</pre></div></div></div><div class=\"sk-parallel\"><div class=\"sk-parallel-item\"><div class=\"sk-item\"><div class=\"sk-label-container\"><div class=\"sk-label sk-toggleable\"><input class=\"sk-toggleable__control sk-hidden--visually\" id=\"sk-estimator-id-5\" type=\"checkbox\" ><label for=\"sk-estimator-id-5\" class=\"sk-toggleable__label sk-toggleable__label-arrow\">estimator: SVC</label><div class=\"sk-toggleable__content\"><pre>SVC()</pre></div></div></div><div class=\"sk-serial\"><div class=\"sk-item\"><div class=\"sk-estimator sk-toggleable\"><input class=\"sk-toggleable__control sk-hidden--visually\" id=\"sk-estimator-id-6\" type=\"checkbox\" ><label for=\"sk-estimator-id-6\" class=\"sk-toggleable__label sk-toggleable__label-arrow\">SVC</label><div class=\"sk-toggleable__content\"><pre>SVC()</pre></div></div></div></div></div></div></div></div></div></div>"
      ],
      "text/plain": [
       "GridSearchCV(cv=5, estimator=SVC(),\n",
       "             param_grid={'C': [0.001, 0.005, 0.01, 0.05, 0.1, 0.5, 1, 5, 10, 50,\n",
       "                               100, 500, 1000],\n",
       "                         'degree': [2, 3, 4, 5],\n",
       "                         'gamma': [1, 0.1, 0.01, 0.001, 0.0001],\n",
       "                         'kernel': ['rbf', 'poly']})"
      ]
     },
     "execution_count": 61,
     "metadata": {},
     "output_type": "execute_result"
    }
   ],
   "source": [
    "# using stratified/scaled data, setting up parameter grid and fitting to data\n",
    "\n",
    "param_grid = {'C':[0.001, 0.005, 0.01, 0.05, 0.1, 0.5, 1, 5, 10, 50, 100, 500, 1000],\n",
    "              'gamma': [1, 0.1, 0.01, 0.001, 0.0001],\n",
    "              'degree': [2, 3, 4, 5],\n",
    "              'kernel': ['rbf', 'poly']}\n",
    "\n",
    "grid_svc = GridSearchCV(SVC(), param_grid, cv=5)\n",
    "grid_svc.fit(X_train_strat_s, y_train_strat_s)"
   ]
  },
  {
   "cell_type": "code",
   "execution_count": 62,
   "id": "a3b5c1c9-1ca5-49d2-8ccd-3911b0becc52",
   "metadata": {
    "tags": []
   },
   "outputs": [
    {
     "data": {
      "text/plain": [
       "{'C': 100, 'degree': 2, 'gamma': 0.001, 'kernel': 'rbf'}"
      ]
     },
     "execution_count": 62,
     "metadata": {},
     "output_type": "execute_result"
    }
   ],
   "source": [
    "grid_svc.best_params_"
   ]
  },
  {
   "cell_type": "code",
   "execution_count": 63,
   "id": "6c282aa6-e088-4df8-9e27-836f99c53867",
   "metadata": {
    "tags": []
   },
   "outputs": [],
   "source": [
    "best_params = {'C': 100, 'gamma': 0.001,'degree': 2, 'kernel': 'rbf'}\n",
    "best_svc_model = SVC(**best_params)\n",
    "\n",
    "best_svc_model.fit(X_train_strat_s, y_train_strat_s)\n",
    "y_pred_svm_best = best_svc_model.predict(X_test_strat_s)"
   ]
  },
  {
   "cell_type": "code",
   "execution_count": 64,
   "id": "e11c164c-1082-41d1-bfc7-34f7bb9d49f1",
   "metadata": {
    "tags": []
   },
   "outputs": [
    {
     "name": "stdout",
     "output_type": "stream",
     "text": [
      "Accuracy: 0.8926553672316384\n"
     ]
    }
   ],
   "source": [
    "accuracy = accuracy_score(y_test_strat_s, y_pred_svm_best)\n",
    "print(f\"Accuracy: {accuracy}\")\n"
   ]
  },
  {
   "cell_type": "code",
   "execution_count": 65,
   "id": "4b5014bc-f975-4a35-8eeb-7f7cab627ab0",
   "metadata": {
    "tags": []
   },
   "outputs": [
    {
     "name": "stdout",
     "output_type": "stream",
     "text": [
      "              precision    recall  f1-score   support\n",
      "\n",
      "           0       0.90      0.95      0.93        40\n",
      "           1       0.85      0.72      0.78        40\n",
      "           2       1.00      1.00      1.00        40\n",
      "           3       1.00      1.00      1.00        40\n",
      "           4       0.71      0.77      0.74        35\n",
      "           5       0.82      0.80      0.81        40\n",
      "           6       0.94      0.85      0.89        39\n",
      "           7       0.87      1.00      0.93        20\n",
      "           8       0.76      0.95      0.84        20\n",
      "           9       1.00      0.95      0.97        40\n",
      "\n",
      "    accuracy                           0.89       354\n",
      "   macro avg       0.89      0.90      0.89       354\n",
      "weighted avg       0.90      0.89      0.89       354\n",
      "\n"
     ]
    }
   ],
   "source": [
    "#Classification Report\n",
    "\n",
    "classification_rep = classification_report(y_test_strat_s, y_pred_svm_best)\n",
    "print(classification_rep)"
   ]
  },
  {
   "cell_type": "markdown",
   "id": "b74fa45a-edad-4cca-ac32-a2eab0f14cd0",
   "metadata": {},
   "source": [
    "There is a bit improvement after the hyperparameter tuning for the SVM model, but it is still not as good as the RandomForest. Going to try one more for funsies!"
   ]
  },
  {
   "cell_type": "code",
   "execution_count": null,
   "id": "483a0690-9d3f-481f-8a01-e1ce465b612c",
   "metadata": {},
   "outputs": [],
   "source": []
  },
  {
   "cell_type": "markdown",
   "id": "7a86b9c3-cc82-4e16-9e2b-5a96d816883c",
   "metadata": {},
   "source": [
    "## XGBoost"
   ]
  },
  {
   "cell_type": "code",
   "execution_count": 66,
   "id": "9659c51b-c46a-4571-88ac-5828c340dda9",
   "metadata": {
    "tags": []
   },
   "outputs": [],
   "source": [
    "import warnings\n",
    "warnings.filterwarnings(\"ignore\", category=FutureWarning, module=\"xgboost\")\n",
    "warnings.filterwarnings(\"ignore\", category=UserWarning, message=\"`eval_metric` in `fit` method is deprecated*\")\n",
    "warnings.filterwarnings(\"ignore\", category=UserWarning, message=\"`early_stopping_rounds` in `fit` method is deprecated*\")"
   ]
  },
  {
   "cell_type": "markdown",
   "id": "cd63303d-0646-419a-b719-335f39e0098f",
   "metadata": {},
   "source": [
    "For this model I do not see any point in playing around with the multiple data sets. So we will create this model on the Startified/Scaled data."
   ]
  },
  {
   "cell_type": "markdown",
   "id": "9791b5d9-8a17-4828-bedc-8c305e63aba2",
   "metadata": {},
   "source": [
    "#### Stratified/Scaled"
   ]
  },
  {
   "cell_type": "code",
   "execution_count": 67,
   "id": "f669740e-113a-49c0-b0c6-ebee0011466b",
   "metadata": {
    "tags": []
   },
   "outputs": [],
   "source": [
    "# parameter set up\n",
    "params = {\n",
    "    'objective': 'multi:softmax',\n",
    "    'num_class': len(y_train_strat_s.unique()),\n",
    "    'max_depth': 6,\n",
    "    'eta': 0.3,\n",
    "    'subsample':1,\n",
    "    'colsample_bytree':1\n",
    "}\n",
    "\n",
    "n_rounds = 100"
   ]
  },
  {
   "cell_type": "code",
   "execution_count": 68,
   "id": "3396910b-8a5e-4592-a89e-4700be5a6975",
   "metadata": {
    "tags": []
   },
   "outputs": [],
   "source": [
    "# Convert to DMatrix\n",
    "\n",
    "d_train_strat_s = xgb.DMatrix(X_train_strat_s, label=y_train_strat_s)\n",
    "d_test_strat_s = xgb.DMatrix(X_test_strat_s, label=y_test_strat_s)"
   ]
  },
  {
   "cell_type": "code",
   "execution_count": 69,
   "id": "6504fe55-1a05-4cf8-a476-ef776ad2414c",
   "metadata": {
    "tags": []
   },
   "outputs": [],
   "source": [
    "# setting up the XGBoost model\n",
    "\n",
    "model_xgb = xgb.train(params, d_train_strat_s, n_rounds)"
   ]
  },
  {
   "cell_type": "code",
   "execution_count": 70,
   "id": "45bb6ef8-1645-4ca9-bdf9-35e1e2915385",
   "metadata": {
    "tags": []
   },
   "outputs": [],
   "source": [
    "y_pred_xgb_strat_s = model_xgb.predict(d_test_strat_s)"
   ]
  },
  {
   "cell_type": "code",
   "execution_count": 71,
   "id": "8742e51e-6e5c-4413-a0f0-55f860e60f6d",
   "metadata": {
    "tags": []
   },
   "outputs": [
    {
     "data": {
      "text/plain": [
       "0.9548022598870056"
      ]
     },
     "execution_count": 71,
     "metadata": {},
     "output_type": "execute_result"
    }
   ],
   "source": [
    "# Checking accuracy score.\n",
    "\n",
    "acc = accuracy_score(y_test_strat_s, y_pred_xgb_strat_s)\n",
    "acc"
   ]
  },
  {
   "cell_type": "markdown",
   "id": "ff69f3bf-9516-4925-9e99-433d51f2ed3d",
   "metadata": {},
   "source": [
    "This is our best accuracy score so far and the speed of running the model was exceptionally fast thanks to the DMatrix format that the XGBoost uses."
   ]
  },
  {
   "cell_type": "code",
   "execution_count": 72,
   "id": "d3642e27-fb59-461b-8476-44be71c68634",
   "metadata": {
    "tags": []
   },
   "outputs": [
    {
     "name": "stdout",
     "output_type": "stream",
     "text": [
      "              precision    recall  f1-score   support\n",
      "\n",
      "           0       1.00      0.90      0.95        40\n",
      "           1       0.97      0.97      0.97        40\n",
      "           2       1.00      0.97      0.99        40\n",
      "           3       0.98      1.00      0.99        40\n",
      "           4       0.97      0.97      0.97        35\n",
      "           5       0.84      0.93      0.88        40\n",
      "           6       0.90      0.90      0.90        39\n",
      "           7       0.95      0.95      0.95        20\n",
      "           8       0.95      0.95      0.95        20\n",
      "           9       1.00      1.00      1.00        40\n",
      "\n",
      "    accuracy                           0.95       354\n",
      "   macro avg       0.96      0.95      0.95       354\n",
      "weighted avg       0.96      0.95      0.96       354\n",
      "\n"
     ]
    }
   ],
   "source": [
    "# Classification Report\n",
    "\n",
    "print(classification_report(y_test_strat_s, y_pred_xgb_strat_s))"
   ]
  },
  {
   "cell_type": "code",
   "execution_count": 73,
   "id": "a02e0df1-6cfe-43c3-b918-737664858a2f",
   "metadata": {
    "tags": []
   },
   "outputs": [
    {
     "data": {
      "text/plain": [
       "array([[36,  0,  0,  0,  0,  3,  1,  0,  0,  0],\n",
       "       [ 0, 39,  0,  0,  1,  0,  0,  0,  0,  0],\n",
       "       [ 0,  0, 39,  1,  0,  0,  0,  0,  0,  0],\n",
       "       [ 0,  0,  0, 40,  0,  0,  0,  0,  0,  0],\n",
       "       [ 0,  1,  0,  0, 34,  0,  0,  0,  0,  0],\n",
       "       [ 0,  0,  0,  0,  0, 37,  1,  1,  1,  0],\n",
       "       [ 0,  0,  0,  0,  0,  4, 35,  0,  0,  0],\n",
       "       [ 0,  0,  0,  0,  0,  0,  1, 19,  0,  0],\n",
       "       [ 0,  0,  0,  0,  0,  0,  1,  0, 19,  0],\n",
       "       [ 0,  0,  0,  0,  0,  0,  0,  0,  0, 40]], dtype=int64)"
      ]
     },
     "execution_count": 73,
     "metadata": {},
     "output_type": "execute_result"
    }
   ],
   "source": [
    "# Confusion Matrix\n",
    "\n",
    "conf_matrix_xgb = confusion_matrix(y_test_strat_s, y_pred_xgb_strat_s)\n",
    "conf_matrix_xgb"
   ]
  },
  {
   "cell_type": "code",
   "execution_count": 84,
   "id": "6bea40e7-48d2-46b5-937e-5c109b6a944d",
   "metadata": {
    "tags": []
   },
   "outputs": [
    {
     "data": {
      "image/png": "[encoded data removed]",
      "text/plain": [
       "<Figure size 800x600 with 1 Axes>"
      ]
     },
     "metadata": {},
     "output_type": "display_data"
    }
   ],
   "source": [
    "# Plotting the confusion matrix as a heatmap\n",
    "\n",
    "plt.figure(figsize=(8, 6))\n",
    "class_labels = ['armraise', 'bicep curl', 'birddog', 'burpee', 'crunches', 'hammer curl', 'over head press', 'tricep kickback left', 'tricep kickback right', 'vup']\n",
    "sns.heatmap(conf_matrix_xgb, annot=True, fmt='d', cmap='tab10', cbar=False,\n",
    "            xticklabels=class_labels, yticklabels=class_labels)\n",
    "plt.title('Confusion Matrix')\n",
    "plt.xlabel('Predicted')\n",
    "plt.ylabel('Actual')\n",
    "plt.show()"
   ]
  },
  {
   "cell_type": "markdown",
   "id": "cfaaac2c-2403-4f2d-9ac4-a57118050b81",
   "metadata": {},
   "source": [
    "### Hyperparameter Tuning with GridSearchCV"
   ]
  },
  {
   "cell_type": "markdown",
   "id": "7b5a2e79-851b-4dd2-8d4b-fca832ec59bc",
   "metadata": {},
   "source": [
    "In order to use Gridsearch with XGBoost we need to switch over to the sklearn format of XGBoost which is XGBClassifier"
   ]
  },
  {
   "cell_type": "code",
   "execution_count": 76,
   "id": "7165abf3-8131-4d15-ae4f-b80f5d02a683",
   "metadata": {
    "tags": []
   },
   "outputs": [
    {
     "name": "stdout",
     "output_type": "stream",
     "text": [
      "Best set of hyperparameters:  {'eta': 0.2, 'max_depth': 5, 'objective': 'multi:softmax', 'subsample': 0.7}\n"
     ]
    }
   ],
   "source": [
    "# Define the hyperparameter grid\n",
    "\n",
    "param_grid = {\n",
    "    'objective': ['multi:softmax'],\n",
    "    'max_depth': [3, 4, 5, 6, 7],\n",
    "    'eta': [0.2, 0.1, 0.01, 0.001],\n",
    "    'subsample': [0.5, 0.7, 1],\n",
    "}\n",
    "\n",
    "# Train the initial XGBoost model\n",
    "model_xgbc = XGBClassifier()\n",
    "grid_search_xgb = GridSearchCV(model_xgbc, param_grid, cv=5, scoring='accuracy')\n",
    "\n",
    "# Fit the grid search to the data\n",
    "grid_search_xgb.fit(X_train_strat_s, y_train_strat_s)\n",
    "\n",
    "print(\"Best set of hyperparameters: \", grid_search_xgb.best_params_)"
   ]
  },
  {
   "cell_type": "code",
   "execution_count": 79,
   "id": "5249c17a-83e7-445d-8fe4-3bc889c183df",
   "metadata": {
    "tags": []
   },
   "outputs": [
    {
     "data": {
      "text/html": [
       "<style>#sk-container-id-6 {color: black;}#sk-container-id-6 pre{padding: 0;}#sk-container-id-6 div.sk-toggleable {background-color: white;}#sk-container-id-6 label.sk-toggleable__label {cursor: pointer;display: block;width: 100%;margin-bottom: 0;padding: 0.3em;box-sizing: border-box;text-align: center;}#sk-container-id-6 label.sk-toggleable__label-arrow:before {content: \"▸\";float: left;margin-right: 0.25em;color: #696969;}#sk-container-id-6 label.sk-toggleable__label-arrow:hover:before {color: black;}#sk-container-id-6 div.sk-estimator:hover label.sk-toggleable__label-arrow:before {color: black;}#sk-container-id-6 div.sk-toggleable__content {max-height: 0;max-width: 0;overflow: hidden;text-align: left;background-color: #f0f8ff;}#sk-container-id-6 div.sk-toggleable__content pre {margin: 0.2em;color: black;border-radius: 0.25em;background-color: #f0f8ff;}#sk-container-id-6 input.sk-toggleable__control:checked~div.sk-toggleable__content {max-height: 200px;max-width: 100%;overflow: auto;}#sk-container-id-6 input.sk-toggleable__control:checked~label.sk-toggleable__label-arrow:before {content: \"▾\";}#sk-container-id-6 div.sk-estimator input.sk-toggleable__control:checked~label.sk-toggleable__label {background-color: #d4ebff;}#sk-container-id-6 div.sk-label input.sk-toggleable__control:checked~label.sk-toggleable__label {background-color: #d4ebff;}#sk-container-id-6 input.sk-hidden--visually {border: 0;clip: rect(1px 1px 1px 1px);clip: rect(1px, 1px, 1px, 1px);height: 1px;margin: -1px;overflow: hidden;padding: 0;position: absolute;width: 1px;}#sk-container-id-6 div.sk-estimator {font-family: monospace;background-color: #f0f8ff;border: 1px dotted black;border-radius: 0.25em;box-sizing: border-box;margin-bottom: 0.5em;}#sk-container-id-6 div.sk-estimator:hover {background-color: #d4ebff;}#sk-container-id-6 div.sk-parallel-item::after {content: \"\";width: 100%;border-bottom: 1px solid gray;flex-grow: 1;}#sk-container-id-6 div.sk-label:hover label.sk-toggleable__label {background-color: #d4ebff;}#sk-container-id-6 div.sk-serial::before {content: \"\";position: absolute;border-left: 1px solid gray;box-sizing: border-box;top: 0;bottom: 0;left: 50%;z-index: 0;}#sk-container-id-6 div.sk-serial {display: flex;flex-direction: column;align-items: center;background-color: white;padding-right: 0.2em;padding-left: 0.2em;position: relative;}#sk-container-id-6 div.sk-item {position: relative;z-index: 1;}#sk-container-id-6 div.sk-parallel {display: flex;align-items: stretch;justify-content: center;background-color: white;position: relative;}#sk-container-id-6 div.sk-item::before, #sk-container-id-6 div.sk-parallel-item::before {content: \"\";position: absolute;border-left: 1px solid gray;box-sizing: border-box;top: 0;bottom: 0;left: 50%;z-index: -1;}#sk-container-id-6 div.sk-parallel-item {display: flex;flex-direction: column;z-index: 1;position: relative;background-color: white;}#sk-container-id-6 div.sk-parallel-item:first-child::after {align-self: flex-end;width: 50%;}#sk-container-id-6 div.sk-parallel-item:last-child::after {align-self: flex-start;width: 50%;}#sk-container-id-6 div.sk-parallel-item:only-child::after {width: 0;}#sk-container-id-6 div.sk-dashed-wrapped {border: 1px dashed gray;margin: 0 0.4em 0.5em 0.4em;box-sizing: border-box;padding-bottom: 0.4em;background-color: white;}#sk-container-id-6 div.sk-label label {font-family: monospace;font-weight: bold;display: inline-block;line-height: 1.2em;}#sk-container-id-6 div.sk-label-container {text-align: center;}#sk-container-id-6 div.sk-container {/* jupyter's `normalize.less` sets `[hidden] { display: none; }` but bootstrap.min.css set `[hidden] { display: none !important; }` so we also need the `!important` here to be able to override the default hidden behavior on the sphinx rendered scikit-learn.org. See: https://github.com/scikit-learn/scikit-learn/issues/21755 */display: inline-block !important;position: relative;}#sk-container-id-6 div.sk-text-repr-fallback {display: none;}</style><div id=\"sk-container-id-6\" class=\"sk-top-container\"><div class=\"sk-text-repr-fallback\"><pre>XGBClassifier(base_score=None, booster=None, callbacks=None,\n",
       "              colsample_bylevel=None, colsample_bynode=None,\n",
       "              colsample_bytree=None, device=None, early_stopping_rounds=None,\n",
       "              enable_categorical=False, eta=0.2, eval_metric=None,\n",
       "              feature_types=None, gamma=None, grow_policy=None,\n",
       "              importance_type=None, interaction_constraints=None,\n",
       "              learning_rate=None, max_bin=None, max_cat_threshold=None,\n",
       "              max_cat_to_onehot=None, max_delta_step=None, max_depth=5,\n",
       "              max_leaves=None, min_child_weight=None, missing=nan,\n",
       "              monotone_constraints=None, multi_strategy=None, n_estimators=None,\n",
       "              n_jobs=None, num_parallel_tree=None, ...)</pre><b>In a Jupyter environment, please rerun this cell to show the HTML representation or trust the notebook. <br />On GitHub, the HTML representation is unable to render, please try loading this page with nbviewer.org.</b></div><div class=\"sk-container\" hidden><div class=\"sk-item\"><div class=\"sk-estimator sk-toggleable\"><input class=\"sk-toggleable__control sk-hidden--visually\" id=\"sk-estimator-id-8\" type=\"checkbox\" checked><label for=\"sk-estimator-id-8\" class=\"sk-toggleable__label sk-toggleable__label-arrow\">XGBClassifier</label><div class=\"sk-toggleable__content\"><pre>XGBClassifier(base_score=None, booster=None, callbacks=None,\n",
       "              colsample_bylevel=None, colsample_bynode=None,\n",
       "              colsample_bytree=None, device=None, early_stopping_rounds=None,\n",
       "              enable_categorical=False, eta=0.2, eval_metric=None,\n",
       "              feature_types=None, gamma=None, grow_policy=None,\n",
       "              importance_type=None, interaction_constraints=None,\n",
       "              learning_rate=None, max_bin=None, max_cat_threshold=None,\n",
       "              max_cat_to_onehot=None, max_delta_step=None, max_depth=5,\n",
       "              max_leaves=None, min_child_weight=None, missing=nan,\n",
       "              monotone_constraints=None, multi_strategy=None, n_estimators=None,\n",
       "              n_jobs=None, num_parallel_tree=None, ...)</pre></div></div></div></div></div>"
      ],
      "text/plain": [
       "XGBClassifier(base_score=None, booster=None, callbacks=None,\n",
       "              colsample_bylevel=None, colsample_bynode=None,\n",
       "              colsample_bytree=None, device=None, early_stopping_rounds=None,\n",
       "              enable_categorical=False, eta=0.2, eval_metric=None,\n",
       "              feature_types=None, gamma=None, grow_policy=None,\n",
       "              importance_type=None, interaction_constraints=None,\n",
       "              learning_rate=None, max_bin=None, max_cat_threshold=None,\n",
       "              max_cat_to_onehot=None, max_delta_step=None, max_depth=5,\n",
       "              max_leaves=None, min_child_weight=None, missing=nan,\n",
       "              monotone_constraints=None, multi_strategy=None, n_estimators=None,\n",
       "              n_jobs=None, num_parallel_tree=None, ...)"
      ]
     },
     "execution_count": 79,
     "metadata": {},
     "output_type": "execute_result"
    }
   ],
   "source": [
    "# Setting up model with tuned parameters\n",
    "\n",
    "best_params = grid_search_xgb.best_params_\n",
    "best_xgb_model = xgb.XGBClassifier(**best_params)\n",
    "\n",
    "best_xgb_model.fit(X_train_strat_s, y_train_strat_s)"
   ]
  },
  {
   "cell_type": "code",
   "execution_count": 80,
   "id": "c4378699-bf15-433f-b619-c9b9a788a2f0",
   "metadata": {
    "tags": []
   },
   "outputs": [],
   "source": [
    "# prediction\n",
    "\n",
    "y_pred = best_xgb_model.predict(X_test_strat_s)"
   ]
  },
  {
   "cell_type": "code",
   "execution_count": 81,
   "id": "6cbe1f04-d912-466b-ab18-a5800c1e16f4",
   "metadata": {
    "tags": []
   },
   "outputs": [
    {
     "name": "stdout",
     "output_type": "stream",
     "text": [
      "Test Accuracy:  0.940677966101695\n"
     ]
    }
   ],
   "source": [
    "# obtaining accuracy score\n",
    "\n",
    "accuracy = accuracy_score(y_test_strat_s, y_pred)\n",
    "print(\"Test Accuracy: \", accuracy)"
   ]
  },
  {
   "cell_type": "code",
   "execution_count": 82,
   "id": "c31f195d-fab9-4207-90d4-35b12e25530b",
   "metadata": {
    "tags": []
   },
   "outputs": [
    {
     "name": "stdout",
     "output_type": "stream",
     "text": [
      "\n",
      "Classification Report:\n",
      "               precision    recall  f1-score   support\n",
      "\n",
      "           0       1.00      0.90      0.95        40\n",
      "           1       0.95      0.97      0.96        40\n",
      "           2       1.00      0.97      0.99        40\n",
      "           3       0.98      1.00      0.99        40\n",
      "           4       0.97      0.94      0.96        35\n",
      "           5       0.79      0.93      0.85        40\n",
      "           6       0.86      0.82      0.84        39\n",
      "           7       0.95      0.95      0.95        20\n",
      "           8       0.95      0.95      0.95        20\n",
      "           9       1.00      0.97      0.99        40\n",
      "\n",
      "    accuracy                           0.94       354\n",
      "   macro avg       0.94      0.94      0.94       354\n",
      "weighted avg       0.94      0.94      0.94       354\n",
      "\n"
     ]
    }
   ],
   "source": [
    "# Classification Report\n",
    "\n",
    "print(\"\\nClassification Report:\\n\", classification_report(y_test_strat_s, y_pred))"
   ]
  },
  {
   "cell_type": "code",
   "execution_count": 83,
   "id": "b31a8922-e6f5-450f-be28-bb1d9913fce5",
   "metadata": {
    "tags": []
   },
   "outputs": [],
   "source": [
    "# Confusion Matrix\n",
    "\n",
    "conf_matrix_xgb_best = confusion_matrix(y_test_strat_s, y_pred)"
   ]
  },
  {
   "cell_type": "code",
   "execution_count": 86,
   "id": "5b81b8ac-6790-417f-828a-457c677d377a",
   "metadata": {
    "tags": []
   },
   "outputs": [
    {
     "data": {
      "image/png": "[encoded data removed]",
      "text/plain": [
       "<Figure size 800x600 with 1 Axes>"
      ]
     },
     "metadata": {},
     "output_type": "display_data"
    }
   ],
   "source": [
    "# Plotting the confusion matrix as a heatmap\n",
    "\n",
    "plt.figure(figsize=(8, 6))\n",
    "class_labels = ['armraise', 'bicep curl', 'birddog', 'burpee', 'crunches', 'hammer curl', 'over head press', 'tricep kickback left', 'tricep kickback right', 'vup']\n",
    "sns.heatmap(conf_matrix_xgb_best, annot=True, fmt='d', cmap='tab10', cbar=False,\n",
    "            xticklabels=class_labels, yticklabels=class_labels)\n",
    "plt.title('Confusion Matrix')\n",
    "plt.xlabel('Predicted')\n",
    "plt.ylabel('Actual')\n",
    "plt.show()"
   ]
  },
  {
   "cell_type": "markdown",
   "id": "a8221dd0-9a3f-440d-ae9c-1f9b13698597",
   "metadata": {},
   "source": [
    "There is a slight decrease in accuracy after the tuning, but both attempts with the XGBoost model give more accurate predictions than any of the other models tried. 95% accuracy being the highest with the XGBoost and also computationally the fastest.\n",
    "\n",
    "There are some other ideas that I would be interested in trying on top the work that I have already done. \n",
    "I would be interested to see how the models do with the numbers from the rotation matrices without any feature engineering,\n",
    "Can the models predict the movements without the parameter data from the json files.\n",
    "How many reps need to be included for the models to achieve a decent accuracy result.\n",
    "\n",
    "I will start a new notebook to try to explore some of these ideas."
   ]
  },
  {
   "cell_type": "code",
   "execution_count": null,
   "id": "5b75a19e-bffc-4e65-89d2-48e12e453497",
   "metadata": {},
   "outputs": [],
   "source": []
  },
  {
   "cell_type": "code",
   "execution_count": null,
   "id": "d18407ce-4059-4864-b1f5-13af29c11c93",
   "metadata": {},
   "outputs": [],
   "source": []
  }
 ],
 "metadata": {
  "kernelspec": {
   "display_name": "LHL_python_environment",
   "language": "python",
   "name": "lhl_python_environment"
  },
  "language_info": {
   "codemirror_mode": {
    "name": "ipython",
    "version": 3
   },
   "file_extension": ".py",
   "mimetype": "text/x-python",
   "name": "python",
   "nbconvert_exporter": "python",
   "pygments_lexer": "ipython3",
   "version": "3.9.18"
  }
 },
 "nbformat": 4,
 "nbformat_minor": 5
}
